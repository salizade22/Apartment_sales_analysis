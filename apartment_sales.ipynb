{
 "cells": [
  {
   "cell_type": "markdown",
   "metadata": {},
   "source": [
    "# Research on apartment sales ads\n",
    "\n",
    "You will have the data from a real estate agency. It is an archive of sales ads for realty in St. Petersburg, Russia, and the surrounding areas collected over the past few years. You’ll need to learn how to determine the market value of real estate properties. Your task is to define the parameters. This will make it possible to build an automated system that is capable of detecting anomalies and fraudulent activity.\n",
    "\n",
    "There are two different types of data available for every apartment for sale. The first type is a user’s input. The second type is received automatically based upon the map data. For example, the distance from the city center, airport, the nearest park or body of water. "
   ]
  },
  {
   "cell_type": "markdown",
   "metadata": {},
   "source": [
    "### Step 1. Open the data file and study the general information. "
   ]
  },
  {
   "cell_type": "code",
   "execution_count": 1,
   "metadata": {},
   "outputs": [
    {
     "data": {
      "text/html": [
       "<div>\n",
       "<style scoped>\n",
       "    .dataframe tbody tr th:only-of-type {\n",
       "        vertical-align: middle;\n",
       "    }\n",
       "\n",
       "    .dataframe tbody tr th {\n",
       "        vertical-align: top;\n",
       "    }\n",
       "\n",
       "    .dataframe thead th {\n",
       "        text-align: right;\n",
       "    }\n",
       "</style>\n",
       "<table border=\"1\" class=\"dataframe\">\n",
       "  <thead>\n",
       "    <tr style=\"text-align: right;\">\n",
       "      <th></th>\n",
       "      <th>date_posted</th>\n",
       "      <th>days_listed</th>\n",
       "      <th>last_price</th>\n",
       "      <th>bedrooms</th>\n",
       "      <th>kitchen_area</th>\n",
       "      <th>living_area</th>\n",
       "      <th>total_area</th>\n",
       "      <th>balconies</th>\n",
       "      <th>ceiling_height</th>\n",
       "      <th>floors_total</th>\n",
       "      <th>...</th>\n",
       "      <th>bike_parking</th>\n",
       "      <th>is_studio</th>\n",
       "      <th>is_open_plan</th>\n",
       "      <th>locality_name</th>\n",
       "      <th>airport_dist</th>\n",
       "      <th>city_center_dist</th>\n",
       "      <th>park_dist</th>\n",
       "      <th>parks_within_3000</th>\n",
       "      <th>pond_dist</th>\n",
       "      <th>ponds_within_3000</th>\n",
       "    </tr>\n",
       "  </thead>\n",
       "  <tbody>\n",
       "    <tr>\n",
       "      <th>0</th>\n",
       "      <td>2019-03-07T00:00:00</td>\n",
       "      <td>NaN</td>\n",
       "      <td>260000.0</td>\n",
       "      <td>3</td>\n",
       "      <td>25.0</td>\n",
       "      <td>51.0</td>\n",
       "      <td>108.0</td>\n",
       "      <td>NaN</td>\n",
       "      <td>2.70</td>\n",
       "      <td>16.0</td>\n",
       "      <td>...</td>\n",
       "      <td>NaN</td>\n",
       "      <td>False</td>\n",
       "      <td>False</td>\n",
       "      <td>Saint Petersburg</td>\n",
       "      <td>18863.0</td>\n",
       "      <td>16028.0</td>\n",
       "      <td>482.0</td>\n",
       "      <td>1.0</td>\n",
       "      <td>755.0</td>\n",
       "      <td>2.0</td>\n",
       "    </tr>\n",
       "    <tr>\n",
       "      <th>1</th>\n",
       "      <td>2018-12-04T00:00:00</td>\n",
       "      <td>81.0</td>\n",
       "      <td>67000.0</td>\n",
       "      <td>1</td>\n",
       "      <td>11.0</td>\n",
       "      <td>18.6</td>\n",
       "      <td>40.4</td>\n",
       "      <td>2.0</td>\n",
       "      <td>NaN</td>\n",
       "      <td>11.0</td>\n",
       "      <td>...</td>\n",
       "      <td>NaN</td>\n",
       "      <td>False</td>\n",
       "      <td>False</td>\n",
       "      <td>Shushary village</td>\n",
       "      <td>12817.0</td>\n",
       "      <td>18603.0</td>\n",
       "      <td>NaN</td>\n",
       "      <td>0.0</td>\n",
       "      <td>NaN</td>\n",
       "      <td>0.0</td>\n",
       "    </tr>\n",
       "    <tr>\n",
       "      <th>2</th>\n",
       "      <td>2015-08-20T00:00:00</td>\n",
       "      <td>558.0</td>\n",
       "      <td>103920.0</td>\n",
       "      <td>2</td>\n",
       "      <td>8.3</td>\n",
       "      <td>34.3</td>\n",
       "      <td>56.0</td>\n",
       "      <td>0.0</td>\n",
       "      <td>NaN</td>\n",
       "      <td>5.0</td>\n",
       "      <td>...</td>\n",
       "      <td>NaN</td>\n",
       "      <td>False</td>\n",
       "      <td>False</td>\n",
       "      <td>Saint Petersburg</td>\n",
       "      <td>21741.0</td>\n",
       "      <td>13933.0</td>\n",
       "      <td>90.0</td>\n",
       "      <td>1.0</td>\n",
       "      <td>574.0</td>\n",
       "      <td>2.0</td>\n",
       "    </tr>\n",
       "    <tr>\n",
       "      <th>3</th>\n",
       "      <td>2015-07-24T00:00:00</td>\n",
       "      <td>424.0</td>\n",
       "      <td>1298000.0</td>\n",
       "      <td>3</td>\n",
       "      <td>NaN</td>\n",
       "      <td>NaN</td>\n",
       "      <td>159.0</td>\n",
       "      <td>0.0</td>\n",
       "      <td>NaN</td>\n",
       "      <td>14.0</td>\n",
       "      <td>...</td>\n",
       "      <td>NaN</td>\n",
       "      <td>False</td>\n",
       "      <td>False</td>\n",
       "      <td>Saint Petersburg</td>\n",
       "      <td>28098.0</td>\n",
       "      <td>6800.0</td>\n",
       "      <td>84.0</td>\n",
       "      <td>2.0</td>\n",
       "      <td>234.0</td>\n",
       "      <td>3.0</td>\n",
       "    </tr>\n",
       "    <tr>\n",
       "      <th>4</th>\n",
       "      <td>2018-06-19T00:00:00</td>\n",
       "      <td>121.0</td>\n",
       "      <td>200000.0</td>\n",
       "      <td>2</td>\n",
       "      <td>41.0</td>\n",
       "      <td>32.0</td>\n",
       "      <td>100.0</td>\n",
       "      <td>NaN</td>\n",
       "      <td>3.03</td>\n",
       "      <td>14.0</td>\n",
       "      <td>...</td>\n",
       "      <td>NaN</td>\n",
       "      <td>False</td>\n",
       "      <td>False</td>\n",
       "      <td>Saint Petersburg</td>\n",
       "      <td>31856.0</td>\n",
       "      <td>8098.0</td>\n",
       "      <td>112.0</td>\n",
       "      <td>2.0</td>\n",
       "      <td>48.0</td>\n",
       "      <td>1.0</td>\n",
       "    </tr>\n",
       "  </tbody>\n",
       "</table>\n",
       "<p>5 rows × 22 columns</p>\n",
       "</div>"
      ],
      "text/plain": [
       "           date_posted  days_listed  last_price  bedrooms  kitchen_area  \\\n",
       "0  2019-03-07T00:00:00          NaN    260000.0         3          25.0   \n",
       "1  2018-12-04T00:00:00         81.0     67000.0         1          11.0   \n",
       "2  2015-08-20T00:00:00        558.0    103920.0         2           8.3   \n",
       "3  2015-07-24T00:00:00        424.0   1298000.0         3           NaN   \n",
       "4  2018-06-19T00:00:00        121.0    200000.0         2          41.0   \n",
       "\n",
       "   living_area  total_area  balconies  ceiling_height  floors_total  ...  \\\n",
       "0         51.0       108.0        NaN            2.70          16.0  ...   \n",
       "1         18.6        40.4        2.0             NaN          11.0  ...   \n",
       "2         34.3        56.0        0.0             NaN           5.0  ...   \n",
       "3          NaN       159.0        0.0             NaN          14.0  ...   \n",
       "4         32.0       100.0        NaN            3.03          14.0  ...   \n",
       "\n",
       "   bike_parking  is_studio is_open_plan     locality_name  airport_dist  \\\n",
       "0           NaN      False        False  Saint Petersburg       18863.0   \n",
       "1           NaN      False        False  Shushary village       12817.0   \n",
       "2           NaN      False        False  Saint Petersburg       21741.0   \n",
       "3           NaN      False        False  Saint Petersburg       28098.0   \n",
       "4           NaN      False        False  Saint Petersburg       31856.0   \n",
       "\n",
       "  city_center_dist  park_dist  parks_within_3000  pond_dist  ponds_within_3000  \n",
       "0          16028.0      482.0                1.0      755.0                2.0  \n",
       "1          18603.0        NaN                0.0        NaN                0.0  \n",
       "2          13933.0       90.0                1.0      574.0                2.0  \n",
       "3           6800.0       84.0                2.0      234.0                3.0  \n",
       "4           8098.0      112.0                2.0       48.0                1.0  \n",
       "\n",
       "[5 rows x 22 columns]"
      ]
     },
     "execution_count": 1,
     "metadata": {},
     "output_type": "execute_result"
    }
   ],
   "source": [
    "import pandas as pd\n",
    "import matplotlib.pyplot as plt\n",
    "data = pd.read_csv('real_estate_data_us.csv', sep='\\t')\n",
    "data.head()"
   ]
  },
  {
   "cell_type": "code",
   "execution_count": 2,
   "metadata": {},
   "outputs": [
    {
     "name": "stdout",
     "output_type": "stream",
     "text": [
      "<class 'pandas.core.frame.DataFrame'>\n",
      "RangeIndex: 23699 entries, 0 to 23698\n",
      "Data columns (total 22 columns):\n",
      " #   Column             Non-Null Count  Dtype  \n",
      "---  ------             --------------  -----  \n",
      " 0   date_posted        23699 non-null  object \n",
      " 1   days_listed        20518 non-null  float64\n",
      " 2   last_price         23699 non-null  float64\n",
      " 3   bedrooms           23699 non-null  int64  \n",
      " 4   kitchen_area       21421 non-null  float64\n",
      " 5   living_area        21796 non-null  float64\n",
      " 6   total_area         23699 non-null  float64\n",
      " 7   balconies          12180 non-null  float64\n",
      " 8   ceiling_height     14504 non-null  float64\n",
      " 9   floors_total       23613 non-null  float64\n",
      " 10  floor              23699 non-null  int64  \n",
      " 11  total_images       23699 non-null  int64  \n",
      " 12  bike_parking       2775 non-null   object \n",
      " 13  is_studio          23699 non-null  bool   \n",
      " 14  is_open_plan       23699 non-null  bool   \n",
      " 15  locality_name      23650 non-null  object \n",
      " 16  airport_dist       18157 non-null  float64\n",
      " 17  city_center_dist   18180 non-null  float64\n",
      " 18  park_dist          8079 non-null   float64\n",
      " 19  parks_within_3000  18181 non-null  float64\n",
      " 20  pond_dist          9110 non-null   float64\n",
      " 21  ponds_within_3000  18181 non-null  float64\n",
      "dtypes: bool(2), float64(14), int64(3), object(3)\n",
      "memory usage: 3.7+ MB\n"
     ]
    }
   ],
   "source": [
    "data.info()"
   ]
  },
  {
   "cell_type": "code",
   "execution_count": 3,
   "metadata": {},
   "outputs": [
    {
     "data": {
      "text/plain": [
       "date_posted              0\n",
       "days_listed           3181\n",
       "last_price               0\n",
       "bedrooms                 0\n",
       "kitchen_area          2278\n",
       "living_area           1903\n",
       "total_area               0\n",
       "balconies            11519\n",
       "ceiling_height        9195\n",
       "floors_total            86\n",
       "floor                    0\n",
       "total_images             0\n",
       "bike_parking         20924\n",
       "is_studio                0\n",
       "is_open_plan             0\n",
       "locality_name           49\n",
       "airport_dist          5542\n",
       "city_center_dist      5519\n",
       "park_dist            15620\n",
       "parks_within_3000     5518\n",
       "pond_dist            14589\n",
       "ponds_within_3000     5518\n",
       "dtype: int64"
      ]
     },
     "execution_count": 3,
     "metadata": {},
     "output_type": "execute_result"
    }
   ],
   "source": [
    "data.isnull().sum()"
   ]
  },
  {
   "cell_type": "code",
   "execution_count": 4,
   "metadata": {},
   "outputs": [
    {
     "data": {
      "text/plain": [
       "0"
      ]
     },
     "execution_count": 4,
     "metadata": {},
     "output_type": "execute_result"
    }
   ],
   "source": [
    "data.duplicated().sum()"
   ]
  },
  {
   "cell_type": "code",
   "execution_count": 5,
   "metadata": {},
   "outputs": [
    {
     "name": "stdout",
     "output_type": "stream",
     "text": [
      "['Agalatovo village' 'Aleksandrovskaya village' 'Annino village'\n",
      " 'Aro village' 'Baryshevo village' 'Batovo village' 'Beloostrov village'\n",
      " 'Boksitogorsk' 'Bolshaya Izhora village' 'Bolshaya Vruda village'\n",
      " 'Bolshiye Kolpany village' 'Bolshoy Sabsk village'\n",
      " 'Bolshoye Reyzino village' 'Bor village' 'Borisova Griva village'\n",
      " 'Bugry village' 'Chudskoy Bor village' 'Druzhnaya Gorka village'\n",
      " 'Druzhnoselye village' 'Dubrovka village' 'Dzerzhinskogo village'\n",
      " 'Elizavetino village' 'Falileyevo village' 'Fort Krasnaya Gorka village'\n",
      " 'Fyodorovskoye' 'Garbolovo village' 'Gatchina' 'Gavrilovo village'\n",
      " 'Gladkoye village' 'Glazhevo village' 'Glebychevo village'\n",
      " 'Glinka village' 'Goncharovo village' 'Gorbunki village'\n",
      " 'Gostilitsy village' 'Gromovo village' 'Hapo-Oe village'\n",
      " 'Ilichyovo village' 'Issad village' 'Ivangorod' 'Izvara village'\n",
      " 'Kalitino village' 'Kalozhitsy village' 'Kaltino village' 'Kamennogorsk'\n",
      " 'Kamyshovka village' 'Kaskovo village' 'Kelozi village'\n",
      " 'Khyazelky village' 'Kingisepp' 'Kingiseppsky village' 'Kipen village'\n",
      " 'Kirishi' 'Kirovsk' 'Kirpichnoye village' 'Kiselnya village'\n",
      " 'Kivennapa Sever village' 'Kobralovo village' 'Kobrinskoye village'\n",
      " 'Kolpino' 'Koltushi village' 'Kommunar' 'Kommunary village'\n",
      " 'Kondratyevo village' 'Koporye village' 'Korkino village'\n",
      " 'Kornevo village' 'Korobitsyno village' 'Kotly village'\n",
      " 'Krasnaya Dolina village' 'Krasnoye Selo' 'Krasny Bor village'\n",
      " 'Krivko village' 'Kronshtadt' 'Kudrovo' 'Kudrovo village'\n",
      " 'Kurkovitsy village' 'Kurovitsy village' 'Kuttuzi village'\n",
      " 'Kuzmolovsky village' 'Kuznechnoye village' 'Lagolovo village'\n",
      " 'Lampovo village' 'Lavriki village' 'Lebyazhye village'\n",
      " 'Leskolovo village' 'Lesnaya polyana village' 'Lesnoye village'\n",
      " 'Lesogorsky village' 'Levashovo village' 'Lisiy Nos village'\n",
      " 'Lodeynoye Pole' 'Lomonosov' 'Lopukhinka village' 'Luga'\n",
      " 'Lukashi village' 'Luppolovo village' 'Lyuban' 'Lyuban village'\n",
      " 'Malaya Romanovka village' 'Maloe Verevo village'\n",
      " 'Maloye Karlino village' 'Malyye Kolpany village' 'Manuylovo village'\n",
      " 'Melnikovo village' 'Menkovo village' 'Metallostroy village'\n",
      " 'Mga village' 'Michurinskoye village' 'Miny village' 'Mistolovo village'\n",
      " 'Molodtsovo village' 'Molodyozhnoye village' 'Morozova village' 'Murino'\n",
      " 'Murino village' 'Naziya village' 'Nenimyaki village' 'Nikolskoye'\n",
      " 'Nikolskoye village' 'Nikolsky village' 'Nizhniye Oselki village'\n",
      " 'Nizhnyaya village' 'Nizino village' 'Novaya Ladoga'\n",
      " 'Novaya Ropsha village' 'Novogorelovo village' 'Novolisino village'\n",
      " 'Novoselye village' 'Novoye Devyatkino village' 'Novy Svet village'\n",
      " 'Novy Uchkhoz village' 'Nurma village' 'Oredezh village'\n",
      " 'Orzhitsy village' 'Otradnoye' 'Pansionat Zelyony Bor village'\n",
      " 'Pargolovo village' 'Paritsy village' 'Pasha village' 'Pavlovo village'\n",
      " 'Pavlovsk' 'Pcheva village' 'Pchevzha village' 'Pelgora village'\n",
      " 'Peniki village' 'Perovo village' 'Pervomayskoye village'\n",
      " 'Pesochny village' 'Petergof' 'Petrovskoye village' 'Pikalyovo'\n",
      " 'Pikkolovo village' 'Pizhma village' 'Plodovoye village'\n",
      " 'Ploskoe village' 'Pobeda village' 'Pochap village' 'Pochinok village'\n",
      " 'Podporozhye' 'Polyany village' 'Pontonny village' 'Priladozhsky village'\n",
      " 'Primorsk' 'Priozersk' 'Privetninskoye village' 'Pudomyagi village'\n",
      " 'Pudost village' 'Pushkin' 'Pushnoye village' 'Pustynka village'\n",
      " 'Putilovo village' 'Rabititsy village' 'Rakhya village'\n",
      " 'Rappolovo village' 'Razbegaevo village' 'Razdolye village'\n",
      " 'Razmetelevo village' 'Rebrovo village' 'Romanovka village'\n",
      " 'Romashki village' 'Ropsha village' 'Roshchino village'\n",
      " 'Rozhdestveno village' 'Russko village' 'Ryabovo village' 'Sadko village'\n",
      " 'Saint Petersburg' 'Sapyornoye village' 'Sapyorny village'\n",
      " 'Schastye village' 'Seltso village' 'Semiozyorye village'\n",
      " 'Semrino village' 'Serebryansky village' 'Sertolovo' 'Sestroretsk'\n",
      " 'Sevastyanovo village' 'Shcheglovo village' 'Shlisselburg'\n",
      " 'Shpankovo village' 'Shugozero village' 'Shum village' 'Shushary village'\n",
      " 'Sinyavino village' 'Siversky village' 'Sizhno village' 'Slantsy'\n",
      " 'Snegiryovka village' 'Sosnovy Bor' 'Sovetsky village'\n",
      " 'Sovkhozny village' 'Staraya Ladoga village' 'Staraya Maluksa village'\n",
      " 'Staraya Pustosh village' 'Staraya village' 'Staropolye village'\n",
      " 'Starosiverskaya village' 'Staroye Khinkolovo village'\n",
      " 'Steklyanny village' 'Strelna village' 'Sukhodolye village'\n",
      " 'Sumino village' 'Suoranda village' 'Suyda village' 'Sverdlova village'\n",
      " 'Svetogorsk' 'Svir village' 'Syaskelevo village' 'Syasstroy'\n",
      " 'Tarasovo village' 'Taytsy village' 'Telmana village'\n",
      " 'Terpilitsy village' 'Tervolovo village' 'Tikhkovitsy village' 'Tikhvin'\n",
      " 'Toksovo village' 'Torkovichi village' 'Tosno' 'Toyvorovo village'\n",
      " 'Tsvelodubovo village' 'Tsvylyovo village' 'Tyosovo-4 village'\n",
      " 'Uglovo village' 'Ulyanovka village' 'Ushaki village'\n",
      " 'Ust-Izhora village' 'Ust-Luga village' 'Vaganovo village'\n",
      " 'Vartemyagi village' 'Veshchevo village' 'Volkhov' 'Volodarskoye village'\n",
      " 'Volosovo' 'Voyskorovo village' 'Voyskovitsy village'\n",
      " 'Voznesenye village' 'Vozrozhdeniye village' 'Vsevolozhsk' 'Vyborg'\n",
      " 'Vyritsa village' 'Vyskatka village' 'Vysokoklyuchevoy village' 'Vysotsk'\n",
      " 'Yalgelevo village' 'Yalgino village' 'Yanino-1 village'\n",
      " 'Yefimovsky village' 'Yukki village' 'Zaklinye village' 'Zanevka village'\n",
      " 'Zaporozhskoye village' 'Zavodskoy village' 'Zelenogorsk'\n",
      " 'Zhilgorodok village' 'Zhilposyolok village' 'Zhitkovo village'\n",
      " 'Zimititsy village' 'village Alekseyevka' 'village Begunitsy'\n",
      " 'village Belogorka' 'village Bolshaya Pustomerzha' 'village Budogoshch'\n",
      " 'village Fornosovo' 'village Fyodorovskoye' 'village Gavrilovo'\n",
      " 'village Gromovo' 'village Izvara' 'village Kikerino' 'village Kobralovo'\n",
      " 'village Kotelsky' 'village Krasnoselskoye' 'village Krasny Bor'\n",
      " 'village Kuzmolovo' 'village Leninskoye' 'village Lesogorsky'\n",
      " 'village Luzhayka' 'village Myza-Ivanovka' 'village Petro-Slavyanka'\n",
      " 'village Platform 69th km' 'village Pobeda' 'village Polyany'\n",
      " 'village Prigorodny' 'village Priladozhsky' 'village Repino'\n",
      " 'village Roshchino' 'village Russko-Vysotskoye' 'village Ryabovo'\n",
      " 'village Seleznyovo' 'village Shcheglovo' 'village Sosnovo'\n",
      " 'village Staryye Begunitsy' 'village Svirstroy' 'village Telmana'\n",
      " 'village Tervolovo' 'village Torfyanoye' 'village Toroshkovichi'\n",
      " 'village Torosovo' 'village Trubnikov Bor' 'village Vakhnova Kara'\n",
      " 'village Vazhiny' 'village Veshchevo' 'village Villozi'\n",
      " 'village Vozrozhdeniye' 'village Yam-Tesovo' nan]\n"
     ]
    }
   ],
   "source": [
    "print(data['locality_name'].sort_values().unique())"
   ]
  },
  {
   "cell_type": "markdown",
   "metadata": {},
   "source": [
    "### Conclusion"
   ]
  },
  {
   "cell_type": "markdown",
   "metadata": {},
   "source": [
    "From the beginning we see that there are a lot of missing variables that we'll have to replace. We also would like to transfer values in date_posted column into a more readable data_time format. Next, we see what data types are held in every column, and having float64 in balconies, floors_total and days_listed is not really helpful. So we'll probably cast those elements as integers. Next we see that there are no apparent duplicates, so we check locality_name column, as it might have non-transparent duplicates. For one, we see instances like 'Kudrino' and 'Kudrino village' which might actually refer to the same place, so we'll analyze this column further. To sum up:\n",
    "- We have a lot of missing variables we have to analyze\n",
    "- We'll transform dates listed in our dataset into a more readable format (Year-month-day)\n",
    "- Changing data_types is needed for specific columns\n",
    "- There are similar values in 'locality_name' column, which potentially might be duplicates\n"
   ]
  },
  {
   "cell_type": "markdown",
   "metadata": {},
   "source": [
    "<div class=\"alert alert-success\" role=\"alert\">\n",
    "Hey, that's a decent start! Very thorough study and neat formatting style ;) \n",
    "</div>"
   ]
  },
  {
   "cell_type": "markdown",
   "metadata": {},
   "source": [
    "### Step 2. Data preprocessing"
   ]
  },
  {
   "cell_type": "markdown",
   "metadata": {},
   "source": [
    "#### Filling missing values"
   ]
  },
  {
   "cell_type": "code",
   "execution_count": 6,
   "metadata": {},
   "outputs": [
    {
     "data": {
      "text/html": [
       "<div>\n",
       "<style scoped>\n",
       "    .dataframe tbody tr th:only-of-type {\n",
       "        vertical-align: middle;\n",
       "    }\n",
       "\n",
       "    .dataframe tbody tr th {\n",
       "        vertical-align: top;\n",
       "    }\n",
       "\n",
       "    .dataframe thead th {\n",
       "        text-align: right;\n",
       "    }\n",
       "</style>\n",
       "<table border=\"1\" class=\"dataframe\">\n",
       "  <thead>\n",
       "    <tr style=\"text-align: right;\">\n",
       "      <th></th>\n",
       "      <th>date_posted</th>\n",
       "      <th>days_listed</th>\n",
       "      <th>last_price</th>\n",
       "      <th>bedrooms</th>\n",
       "      <th>kitchen_area</th>\n",
       "      <th>living_area</th>\n",
       "      <th>total_area</th>\n",
       "      <th>balconies</th>\n",
       "      <th>ceiling_height</th>\n",
       "      <th>floors_total</th>\n",
       "      <th>...</th>\n",
       "      <th>bike_parking</th>\n",
       "      <th>is_studio</th>\n",
       "      <th>is_open_plan</th>\n",
       "      <th>locality_name</th>\n",
       "      <th>airport_dist</th>\n",
       "      <th>city_center_dist</th>\n",
       "      <th>park_dist</th>\n",
       "      <th>parks_within_3000</th>\n",
       "      <th>pond_dist</th>\n",
       "      <th>ponds_within_3000</th>\n",
       "    </tr>\n",
       "  </thead>\n",
       "  <tbody>\n",
       "    <tr>\n",
       "      <th>0</th>\n",
       "      <td>2019-03-07T00:00:00</td>\n",
       "      <td>NaN</td>\n",
       "      <td>260000.0</td>\n",
       "      <td>3</td>\n",
       "      <td>25.0</td>\n",
       "      <td>51.0</td>\n",
       "      <td>108.0</td>\n",
       "      <td>NaN</td>\n",
       "      <td>2.70</td>\n",
       "      <td>16.0</td>\n",
       "      <td>...</td>\n",
       "      <td>NaN</td>\n",
       "      <td>False</td>\n",
       "      <td>False</td>\n",
       "      <td>Saint Petersburg</td>\n",
       "      <td>18863.0</td>\n",
       "      <td>16028.0</td>\n",
       "      <td>482.0</td>\n",
       "      <td>1.0</td>\n",
       "      <td>755.0</td>\n",
       "      <td>2.0</td>\n",
       "    </tr>\n",
       "    <tr>\n",
       "      <th>1</th>\n",
       "      <td>2018-12-04T00:00:00</td>\n",
       "      <td>81.0</td>\n",
       "      <td>67000.0</td>\n",
       "      <td>1</td>\n",
       "      <td>11.0</td>\n",
       "      <td>18.6</td>\n",
       "      <td>40.4</td>\n",
       "      <td>2.0</td>\n",
       "      <td>NaN</td>\n",
       "      <td>11.0</td>\n",
       "      <td>...</td>\n",
       "      <td>NaN</td>\n",
       "      <td>False</td>\n",
       "      <td>False</td>\n",
       "      <td>Shushary village</td>\n",
       "      <td>12817.0</td>\n",
       "      <td>18603.0</td>\n",
       "      <td>NaN</td>\n",
       "      <td>0.0</td>\n",
       "      <td>NaN</td>\n",
       "      <td>0.0</td>\n",
       "    </tr>\n",
       "    <tr>\n",
       "      <th>2</th>\n",
       "      <td>2015-08-20T00:00:00</td>\n",
       "      <td>558.0</td>\n",
       "      <td>103920.0</td>\n",
       "      <td>2</td>\n",
       "      <td>8.3</td>\n",
       "      <td>34.3</td>\n",
       "      <td>56.0</td>\n",
       "      <td>0.0</td>\n",
       "      <td>NaN</td>\n",
       "      <td>5.0</td>\n",
       "      <td>...</td>\n",
       "      <td>NaN</td>\n",
       "      <td>False</td>\n",
       "      <td>False</td>\n",
       "      <td>Saint Petersburg</td>\n",
       "      <td>21741.0</td>\n",
       "      <td>13933.0</td>\n",
       "      <td>90.0</td>\n",
       "      <td>1.0</td>\n",
       "      <td>574.0</td>\n",
       "      <td>2.0</td>\n",
       "    </tr>\n",
       "    <tr>\n",
       "      <th>3</th>\n",
       "      <td>2015-07-24T00:00:00</td>\n",
       "      <td>424.0</td>\n",
       "      <td>1298000.0</td>\n",
       "      <td>3</td>\n",
       "      <td>NaN</td>\n",
       "      <td>NaN</td>\n",
       "      <td>159.0</td>\n",
       "      <td>0.0</td>\n",
       "      <td>NaN</td>\n",
       "      <td>14.0</td>\n",
       "      <td>...</td>\n",
       "      <td>NaN</td>\n",
       "      <td>False</td>\n",
       "      <td>False</td>\n",
       "      <td>Saint Petersburg</td>\n",
       "      <td>28098.0</td>\n",
       "      <td>6800.0</td>\n",
       "      <td>84.0</td>\n",
       "      <td>2.0</td>\n",
       "      <td>234.0</td>\n",
       "      <td>3.0</td>\n",
       "    </tr>\n",
       "    <tr>\n",
       "      <th>4</th>\n",
       "      <td>2018-06-19T00:00:00</td>\n",
       "      <td>121.0</td>\n",
       "      <td>200000.0</td>\n",
       "      <td>2</td>\n",
       "      <td>41.0</td>\n",
       "      <td>32.0</td>\n",
       "      <td>100.0</td>\n",
       "      <td>NaN</td>\n",
       "      <td>3.03</td>\n",
       "      <td>14.0</td>\n",
       "      <td>...</td>\n",
       "      <td>NaN</td>\n",
       "      <td>False</td>\n",
       "      <td>False</td>\n",
       "      <td>Saint Petersburg</td>\n",
       "      <td>31856.0</td>\n",
       "      <td>8098.0</td>\n",
       "      <td>112.0</td>\n",
       "      <td>2.0</td>\n",
       "      <td>48.0</td>\n",
       "      <td>1.0</td>\n",
       "    </tr>\n",
       "  </tbody>\n",
       "</table>\n",
       "<p>5 rows × 22 columns</p>\n",
       "</div>"
      ],
      "text/plain": [
       "           date_posted  days_listed  last_price  bedrooms  kitchen_area  \\\n",
       "0  2019-03-07T00:00:00          NaN    260000.0         3          25.0   \n",
       "1  2018-12-04T00:00:00         81.0     67000.0         1          11.0   \n",
       "2  2015-08-20T00:00:00        558.0    103920.0         2           8.3   \n",
       "3  2015-07-24T00:00:00        424.0   1298000.0         3           NaN   \n",
       "4  2018-06-19T00:00:00        121.0    200000.0         2          41.0   \n",
       "\n",
       "   living_area  total_area  balconies  ceiling_height  floors_total  ...  \\\n",
       "0         51.0       108.0        NaN            2.70          16.0  ...   \n",
       "1         18.6        40.4        2.0             NaN          11.0  ...   \n",
       "2         34.3        56.0        0.0             NaN           5.0  ...   \n",
       "3          NaN       159.0        0.0             NaN          14.0  ...   \n",
       "4         32.0       100.0        NaN            3.03          14.0  ...   \n",
       "\n",
       "   bike_parking  is_studio is_open_plan     locality_name  airport_dist  \\\n",
       "0           NaN      False        False  Saint Petersburg       18863.0   \n",
       "1           NaN      False        False  Shushary village       12817.0   \n",
       "2           NaN      False        False  Saint Petersburg       21741.0   \n",
       "3           NaN      False        False  Saint Petersburg       28098.0   \n",
       "4           NaN      False        False  Saint Petersburg       31856.0   \n",
       "\n",
       "  city_center_dist  park_dist  parks_within_3000  pond_dist  ponds_within_3000  \n",
       "0          16028.0      482.0                1.0      755.0                2.0  \n",
       "1          18603.0        NaN                0.0        NaN                0.0  \n",
       "2          13933.0       90.0                1.0      574.0                2.0  \n",
       "3           6800.0       84.0                2.0      234.0                3.0  \n",
       "4           8098.0      112.0                2.0       48.0                1.0  \n",
       "\n",
       "[5 rows x 22 columns]"
      ]
     },
     "execution_count": 6,
     "metadata": {},
     "output_type": "execute_result"
    }
   ],
   "source": [
    "data.head()"
   ]
  },
  {
   "cell_type": "markdown",
   "metadata": {},
   "source": [
    "Changing days_listed to 0 or median might significantly affect our results, so let's keep them as NaN for now  "
   ]
  },
  {
   "cell_type": "code",
   "execution_count": 7,
   "metadata": {
    "scrolled": true
   },
   "outputs": [
    {
     "data": {
      "text/html": [
       "<div>\n",
       "<style scoped>\n",
       "    .dataframe tbody tr th:only-of-type {\n",
       "        vertical-align: middle;\n",
       "    }\n",
       "\n",
       "    .dataframe tbody tr th {\n",
       "        vertical-align: top;\n",
       "    }\n",
       "\n",
       "    .dataframe thead th {\n",
       "        text-align: right;\n",
       "    }\n",
       "</style>\n",
       "<table border=\"1\" class=\"dataframe\">\n",
       "  <thead>\n",
       "    <tr style=\"text-align: right;\">\n",
       "      <th></th>\n",
       "      <th>date_posted</th>\n",
       "      <th>days_listed</th>\n",
       "      <th>last_price</th>\n",
       "      <th>bedrooms</th>\n",
       "      <th>kitchen_area</th>\n",
       "      <th>living_area</th>\n",
       "      <th>total_area</th>\n",
       "      <th>balconies</th>\n",
       "      <th>ceiling_height</th>\n",
       "      <th>floors_total</th>\n",
       "      <th>...</th>\n",
       "      <th>bike_parking</th>\n",
       "      <th>is_studio</th>\n",
       "      <th>is_open_plan</th>\n",
       "      <th>locality_name</th>\n",
       "      <th>airport_dist</th>\n",
       "      <th>city_center_dist</th>\n",
       "      <th>park_dist</th>\n",
       "      <th>parks_within_3000</th>\n",
       "      <th>pond_dist</th>\n",
       "      <th>ponds_within_3000</th>\n",
       "    </tr>\n",
       "  </thead>\n",
       "  <tbody>\n",
       "    <tr>\n",
       "      <th>3</th>\n",
       "      <td>2015-07-24T00:00:00</td>\n",
       "      <td>424.0</td>\n",
       "      <td>1298000.0</td>\n",
       "      <td>3</td>\n",
       "      <td>NaN</td>\n",
       "      <td>NaN</td>\n",
       "      <td>159.0</td>\n",
       "      <td>0.0</td>\n",
       "      <td>NaN</td>\n",
       "      <td>14.0</td>\n",
       "      <td>...</td>\n",
       "      <td>NaN</td>\n",
       "      <td>False</td>\n",
       "      <td>False</td>\n",
       "      <td>Saint Petersburg</td>\n",
       "      <td>28098.0</td>\n",
       "      <td>6800.0</td>\n",
       "      <td>84.0</td>\n",
       "      <td>2.0</td>\n",
       "      <td>234.0</td>\n",
       "      <td>3.0</td>\n",
       "    </tr>\n",
       "    <tr>\n",
       "      <th>7</th>\n",
       "      <td>2019-04-18T00:00:00</td>\n",
       "      <td>NaN</td>\n",
       "      <td>158300.0</td>\n",
       "      <td>2</td>\n",
       "      <td>18.9</td>\n",
       "      <td>NaN</td>\n",
       "      <td>71.6</td>\n",
       "      <td>2.0</td>\n",
       "      <td>NaN</td>\n",
       "      <td>24.0</td>\n",
       "      <td>...</td>\n",
       "      <td>NaN</td>\n",
       "      <td>False</td>\n",
       "      <td>False</td>\n",
       "      <td>Saint Petersburg</td>\n",
       "      <td>23982.0</td>\n",
       "      <td>11634.0</td>\n",
       "      <td>NaN</td>\n",
       "      <td>0.0</td>\n",
       "      <td>NaN</td>\n",
       "      <td>0.0</td>\n",
       "    </tr>\n",
       "    <tr>\n",
       "      <th>30</th>\n",
       "      <td>2018-02-19T00:00:00</td>\n",
       "      <td>63.0</td>\n",
       "      <td>44000.0</td>\n",
       "      <td>1</td>\n",
       "      <td>NaN</td>\n",
       "      <td>NaN</td>\n",
       "      <td>32.8</td>\n",
       "      <td>NaN</td>\n",
       "      <td>NaN</td>\n",
       "      <td>9.0</td>\n",
       "      <td>...</td>\n",
       "      <td>NaN</td>\n",
       "      <td>False</td>\n",
       "      <td>False</td>\n",
       "      <td>Kommunar</td>\n",
       "      <td>NaN</td>\n",
       "      <td>NaN</td>\n",
       "      <td>NaN</td>\n",
       "      <td>NaN</td>\n",
       "      <td>NaN</td>\n",
       "      <td>NaN</td>\n",
       "    </tr>\n",
       "    <tr>\n",
       "      <th>37</th>\n",
       "      <td>2017-10-28T00:00:00</td>\n",
       "      <td>196.0</td>\n",
       "      <td>39800.0</td>\n",
       "      <td>2</td>\n",
       "      <td>NaN</td>\n",
       "      <td>NaN</td>\n",
       "      <td>45.8</td>\n",
       "      <td>NaN</td>\n",
       "      <td>2.5</td>\n",
       "      <td>5.0</td>\n",
       "      <td>...</td>\n",
       "      <td>NaN</td>\n",
       "      <td>False</td>\n",
       "      <td>False</td>\n",
       "      <td>village Krasny Bor</td>\n",
       "      <td>NaN</td>\n",
       "      <td>NaN</td>\n",
       "      <td>NaN</td>\n",
       "      <td>NaN</td>\n",
       "      <td>NaN</td>\n",
       "      <td>NaN</td>\n",
       "    </tr>\n",
       "    <tr>\n",
       "      <th>44</th>\n",
       "      <td>2018-11-18T00:00:00</td>\n",
       "      <td>NaN</td>\n",
       "      <td>107000.0</td>\n",
       "      <td>1</td>\n",
       "      <td>NaN</td>\n",
       "      <td>NaN</td>\n",
       "      <td>40.0</td>\n",
       "      <td>1.0</td>\n",
       "      <td>NaN</td>\n",
       "      <td>22.0</td>\n",
       "      <td>...</td>\n",
       "      <td>NaN</td>\n",
       "      <td>False</td>\n",
       "      <td>False</td>\n",
       "      <td>Saint Petersburg</td>\n",
       "      <td>30471.0</td>\n",
       "      <td>11603.0</td>\n",
       "      <td>620.0</td>\n",
       "      <td>1.0</td>\n",
       "      <td>1152.0</td>\n",
       "      <td>1.0</td>\n",
       "    </tr>\n",
       "  </tbody>\n",
       "</table>\n",
       "<p>5 rows × 22 columns</p>\n",
       "</div>"
      ],
      "text/plain": [
       "            date_posted  days_listed  last_price  bedrooms  kitchen_area  \\\n",
       "3   2015-07-24T00:00:00        424.0   1298000.0         3           NaN   \n",
       "7   2019-04-18T00:00:00          NaN    158300.0         2          18.9   \n",
       "30  2018-02-19T00:00:00         63.0     44000.0         1           NaN   \n",
       "37  2017-10-28T00:00:00        196.0     39800.0         2           NaN   \n",
       "44  2018-11-18T00:00:00          NaN    107000.0         1           NaN   \n",
       "\n",
       "    living_area  total_area  balconies  ceiling_height  floors_total  ...  \\\n",
       "3           NaN       159.0        0.0             NaN          14.0  ...   \n",
       "7           NaN        71.6        2.0             NaN          24.0  ...   \n",
       "30          NaN        32.8        NaN             NaN           9.0  ...   \n",
       "37          NaN        45.8        NaN             2.5           5.0  ...   \n",
       "44          NaN        40.0        1.0             NaN          22.0  ...   \n",
       "\n",
       "    bike_parking  is_studio is_open_plan       locality_name  airport_dist  \\\n",
       "3            NaN      False        False    Saint Petersburg       28098.0   \n",
       "7            NaN      False        False    Saint Petersburg       23982.0   \n",
       "30           NaN      False        False            Kommunar           NaN   \n",
       "37           NaN      False        False  village Krasny Bor           NaN   \n",
       "44           NaN      False        False    Saint Petersburg       30471.0   \n",
       "\n",
       "   city_center_dist  park_dist  parks_within_3000  pond_dist  \\\n",
       "3            6800.0       84.0                2.0      234.0   \n",
       "7           11634.0        NaN                0.0        NaN   \n",
       "30              NaN        NaN                NaN        NaN   \n",
       "37              NaN        NaN                NaN        NaN   \n",
       "44          11603.0      620.0                1.0     1152.0   \n",
       "\n",
       "    ponds_within_3000  \n",
       "3                 3.0  \n",
       "7                 0.0  \n",
       "30                NaN  \n",
       "37                NaN  \n",
       "44                1.0  \n",
       "\n",
       "[5 rows x 22 columns]"
      ]
     },
     "execution_count": 7,
     "metadata": {},
     "output_type": "execute_result"
    }
   ],
   "source": [
    "nan_area = data[data['living_area'].isnull()]\n",
    "nan_area.head()"
   ]
  },
  {
   "cell_type": "code",
   "execution_count": 9,
   "metadata": {},
   "outputs": [
    {
     "data": {
      "image/png": "[encoded data removed]",
      "text/plain": [
       "<Figure size 432x288 with 1 Axes>"
      ]
     },
     "metadata": {
      "needs_background": "light"
     },
     "output_type": "display_data"
    }
   ],
   "source": [
    "nan_area['is_open_plan'].value_counts().plot(kind='bar')\n",
    "plt.show()"
   ]
  },
  {
   "cell_type": "code",
   "execution_count": 8,
   "metadata": {},
   "outputs": [
    {
     "data": {
      "image/png": "[encoded data removed]",
      "text/plain": [
       "<Figure size 432x288 with 1 Axes>"
      ]
     },
     "metadata": {
      "needs_background": "light"
     },
     "output_type": "display_data"
    }
   ],
   "source": [
    "nan_area['is_studio'].value_counts().plot(kind='bar')\n",
    "plt.show()"
   ]
  },
  {
   "cell_type": "markdown",
   "metadata": {},
   "source": [
    "Seems like both open_plan and studio apartments have similar shares of missing variables, so mossing variables are not prone to a specific type of an apartment. So let's fill all of them in the same fashion"
   ]
  },
  {
   "cell_type": "code",
   "execution_count": 10,
   "metadata": {},
   "outputs": [
    {
     "data": {
      "text/plain": [
       "1.7609977447984868"
      ]
     },
     "execution_count": 10,
     "metadata": {},
     "output_type": "execute_result"
    }
   ],
   "source": [
    "avg_ratio = data['total_area']/data['living_area']\n",
    "avg_ratio = avg_ratio.median()\n",
    "avg_ratio"
   ]
  },
  {
   "cell_type": "code",
   "execution_count": 11,
   "metadata": {},
   "outputs": [],
   "source": [
    "data.loc[data['living_area'].isnull(),'living_area'] = data['total_area']/avg_ratio    "
   ]
  },
  {
   "cell_type": "code",
   "execution_count": 13,
   "metadata": {},
   "outputs": [
    {
     "name": "stderr",
     "output_type": "stream",
     "text": [
      "C:\\Users\\shakh\\anaconda3\\lib\\site-packages\\ipykernel_launcher.py:1: SettingWithCopyWarning: \n",
      "A value is trying to be set on a copy of a slice from a DataFrame.\n",
      "Try using .loc[row_indexer,col_indexer] = value instead\n",
      "\n",
      "See the caveats in the documentation: https://pandas.pydata.org/pandas-docs/stable/user_guide/indexing.html#returning-a-view-versus-a-copy\n",
      "  \"\"\"Entry point for launching an IPython kernel.\n"
     ]
    }
   ],
   "source": [
    "nan_area['living_area'] = nan_area['total_area']/avg_ratio\n"
   ]
  },
  {
   "cell_type": "code",
   "execution_count": 14,
   "metadata": {},
   "outputs": [
    {
     "data": {
      "text/html": [
       "<div>\n",
       "<style scoped>\n",
       "    .dataframe tbody tr th:only-of-type {\n",
       "        vertical-align: middle;\n",
       "    }\n",
       "\n",
       "    .dataframe tbody tr th {\n",
       "        vertical-align: top;\n",
       "    }\n",
       "\n",
       "    .dataframe thead th {\n",
       "        text-align: right;\n",
       "    }\n",
       "</style>\n",
       "<table border=\"1\" class=\"dataframe\">\n",
       "  <thead>\n",
       "    <tr style=\"text-align: right;\">\n",
       "      <th></th>\n",
       "      <th>date_posted</th>\n",
       "      <th>days_listed</th>\n",
       "      <th>last_price</th>\n",
       "      <th>bedrooms</th>\n",
       "      <th>kitchen_area</th>\n",
       "      <th>living_area</th>\n",
       "      <th>total_area</th>\n",
       "      <th>balconies</th>\n",
       "      <th>ceiling_height</th>\n",
       "      <th>floors_total</th>\n",
       "      <th>...</th>\n",
       "      <th>bike_parking</th>\n",
       "      <th>is_studio</th>\n",
       "      <th>is_open_plan</th>\n",
       "      <th>locality_name</th>\n",
       "      <th>airport_dist</th>\n",
       "      <th>city_center_dist</th>\n",
       "      <th>park_dist</th>\n",
       "      <th>parks_within_3000</th>\n",
       "      <th>pond_dist</th>\n",
       "      <th>ponds_within_3000</th>\n",
       "    </tr>\n",
       "  </thead>\n",
       "  <tbody>\n",
       "  </tbody>\n",
       "</table>\n",
       "<p>0 rows × 22 columns</p>\n",
       "</div>"
      ],
      "text/plain": [
       "Empty DataFrame\n",
       "Columns: [date_posted, days_listed, last_price, bedrooms, kitchen_area, living_area, total_area, balconies, ceiling_height, floors_total, floor, total_images, bike_parking, is_studio, is_open_plan, locality_name, airport_dist, city_center_dist, park_dist, parks_within_3000, pond_dist, ponds_within_3000]\n",
       "Index: []\n",
       "\n",
       "[0 rows x 22 columns]"
      ]
     },
     "execution_count": 14,
     "metadata": {},
     "output_type": "execute_result"
    }
   ],
   "source": [
    "nan_area[nan_area['living_area'].isnull()]"
   ]
  },
  {
   "cell_type": "code",
   "execution_count": 15,
   "metadata": {},
   "outputs": [
    {
     "data": {
      "text/plain": [
       "1903"
      ]
     },
     "execution_count": 15,
     "metadata": {},
     "output_type": "execute_result"
    }
   ],
   "source": [
    "len(nan_area['living_area'])"
   ]
  },
  {
   "cell_type": "code",
   "execution_count": 17,
   "metadata": {},
   "outputs": [
    {
     "data": {
      "text/plain": [
       "0"
      ]
     },
     "execution_count": 17,
     "metadata": {},
     "output_type": "execute_result"
    }
   ],
   "source": [
    "len(data[data['living_area'].isnull()])"
   ]
  },
  {
   "cell_type": "code",
   "execution_count": 18,
   "metadata": {},
   "outputs": [],
   "source": [
    "data.loc[data['kitchen_area'].isnull(),'kitchen_area'] = data['total_area'] - data['living_area']"
   ]
  },
  {
   "cell_type": "code",
   "execution_count": 19,
   "metadata": {},
   "outputs": [
    {
     "data": {
      "text/plain": [
       "0"
      ]
     },
     "execution_count": 19,
     "metadata": {},
     "output_type": "execute_result"
    }
   ],
   "source": [
    "len(data[data['kitchen_area'].isnull()])"
   ]
  },
  {
   "cell_type": "markdown",
   "metadata": {},
   "source": [
    "<div class=\"alert alert-info\" role=\"alert\">   \n",
    "I decided to follow the simple approach and count kitchen_area as the result of the subraction of total_area and living_area. We could also use the specific average ratio, but then we might miss out some area, like bathroom areas. So I wasn't sure.\n",
    "</div>\n",
    "\n",
    "<div class=\"alert alert-success\" role=\"alert\">   \n",
    "I think it might do just fine as well =)\n",
    "</div>"
   ]
  },
  {
   "cell_type": "markdown",
   "metadata": {},
   "source": [
    "<div class=\"alert alert-success\" role=\"alert\">\n",
    "Ok, that's actually flawlessly done! Most people simply replace living area with median area for all living rooms, and that's incorrect. But you actually figured this out and calculated the ratio first, GJ! =)\n",
    "\n",
    "\n",
    "</div>"
   ]
  },
  {
   "cell_type": "markdown",
   "metadata": {},
   "source": [
    "It's likely that when an apartment didn't have any balconies, the data was simply not entered. So let's fill missing balconies values as 0"
   ]
  },
  {
   "cell_type": "code",
   "execution_count": 20,
   "metadata": {},
   "outputs": [],
   "source": [
    "data['balconies'] = data['balconies'].fillna(0)"
   ]
  },
  {
   "cell_type": "code",
   "execution_count": 21,
   "metadata": {},
   "outputs": [
    {
     "data": {
      "text/plain": [
       "2.65"
      ]
     },
     "execution_count": 21,
     "metadata": {},
     "output_type": "execute_result"
    }
   ],
   "source": [
    "ceiling_med = data['ceiling_height'].median()\n",
    "ceiling_med"
   ]
  },
  {
   "cell_type": "code",
   "execution_count": 22,
   "metadata": {},
   "outputs": [
    {
     "data": {
      "text/plain": [
       "1.0"
      ]
     },
     "execution_count": 22,
     "metadata": {},
     "output_type": "execute_result"
    }
   ],
   "source": [
    "ceiling_min = data['ceiling_height'].min()\n",
    "ceiling_min"
   ]
  },
  {
   "cell_type": "code",
   "execution_count": 23,
   "metadata": {
    "scrolled": true
   },
   "outputs": [
    {
     "data": {
      "text/plain": [
       "100.0"
      ]
     },
     "execution_count": 23,
     "metadata": {},
     "output_type": "execute_result"
    }
   ],
   "source": [
    "ceiling_max = max(data['ceiling_height'])\n",
    "ceiling_max"
   ]
  },
  {
   "cell_type": "markdown",
   "metadata": {},
   "source": [
    "We see that there is a big discrepancy in ceiling heights. But we could probaly reasonably expect the height to be between 2.5 and 5 meters. So let's use median to fill in the missing variables"
   ]
  },
  {
   "cell_type": "code",
   "execution_count": 24,
   "metadata": {},
   "outputs": [
    {
     "data": {
      "text/plain": [
       "0"
      ]
     },
     "execution_count": 24,
     "metadata": {},
     "output_type": "execute_result"
    }
   ],
   "source": [
    "data.loc[data['ceiling_height'].isnull(),'ceiling_height'] = ceiling_med\n",
    "len(data[data['ceiling_height'].isnull()])"
   ]
  },
  {
   "cell_type": "code",
   "execution_count": 63,
   "metadata": {},
   "outputs": [],
   "source": [
    "data['floors_total'] = data['floors_total'].fillna(1)"
   ]
  },
  {
   "cell_type": "markdown",
   "metadata": {},
   "source": [
    "Transforming date_posted column into a more readable Year-month-day format"
   ]
  },
  {
   "cell_type": "code",
   "execution_count": 26,
   "metadata": {},
   "outputs": [],
   "source": [
    "data['date_posted'] = pd.to_datetime(data['date_posted'],format = '%Y-%m-%d')"
   ]
  },
  {
   "cell_type": "markdown",
   "metadata": {},
   "source": [
    "To fill in the missing variables  in the airport_dist and city_center_dist columns, let's calculate the median values of those columns for each locality."
   ]
  },
  {
   "cell_type": "code",
   "execution_count": 27,
   "metadata": {},
   "outputs": [
    {
     "data": {
      "text/html": [
       "<div>\n",
       "<style scoped>\n",
       "    .dataframe tbody tr th:only-of-type {\n",
       "        vertical-align: middle;\n",
       "    }\n",
       "\n",
       "    .dataframe tbody tr th {\n",
       "        vertical-align: top;\n",
       "    }\n",
       "\n",
       "    .dataframe thead th {\n",
       "        text-align: right;\n",
       "    }\n",
       "</style>\n",
       "<table border=\"1\" class=\"dataframe\">\n",
       "  <thead>\n",
       "    <tr style=\"text-align: right;\">\n",
       "      <th></th>\n",
       "      <th>airport_dist</th>\n",
       "      <th>city_center_dist</th>\n",
       "    </tr>\n",
       "    <tr>\n",
       "      <th>locality_name</th>\n",
       "      <th></th>\n",
       "      <th></th>\n",
       "    </tr>\n",
       "  </thead>\n",
       "  <tbody>\n",
       "    <tr>\n",
       "      <th>Aleksandrovskaya village</th>\n",
       "      <td>12896.5</td>\n",
       "      <td>27468.0</td>\n",
       "    </tr>\n",
       "    <tr>\n",
       "      <th>Beloostrov village</th>\n",
       "      <td>57769.0</td>\n",
       "      <td>38868.0</td>\n",
       "    </tr>\n",
       "    <tr>\n",
       "      <th>Kolpino</th>\n",
       "      <td>26232.0</td>\n",
       "      <td>32018.0</td>\n",
       "    </tr>\n",
       "    <tr>\n",
       "      <th>Krasnoye Selo</th>\n",
       "      <td>25715.5</td>\n",
       "      <td>29140.5</td>\n",
       "    </tr>\n",
       "    <tr>\n",
       "      <th>Kronshtadt</th>\n",
       "      <td>67850.0</td>\n",
       "      <td>49575.0</td>\n",
       "    </tr>\n",
       "    <tr>\n",
       "      <th>Levashovo village</th>\n",
       "      <td>52693.0</td>\n",
       "      <td>25727.0</td>\n",
       "    </tr>\n",
       "    <tr>\n",
       "      <th>Lisiy Nos village</th>\n",
       "      <td>55909.0</td>\n",
       "      <td>28226.0</td>\n",
       "    </tr>\n",
       "    <tr>\n",
       "      <th>Lomonosov</th>\n",
       "      <td>48415.5</td>\n",
       "      <td>51677.0</td>\n",
       "    </tr>\n",
       "    <tr>\n",
       "      <th>Metallostroy village</th>\n",
       "      <td>25758.0</td>\n",
       "      <td>27602.0</td>\n",
       "    </tr>\n",
       "    <tr>\n",
       "      <th>Molodyozhnoye village</th>\n",
       "      <td>84665.0</td>\n",
       "      <td>65764.0</td>\n",
       "    </tr>\n",
       "    <tr>\n",
       "      <th>Murino village</th>\n",
       "      <td>51553.0</td>\n",
       "      <td>21888.0</td>\n",
       "    </tr>\n",
       "    <tr>\n",
       "      <th>Pargolovo village</th>\n",
       "      <td>53426.0</td>\n",
       "      <td>19311.0</td>\n",
       "    </tr>\n",
       "    <tr>\n",
       "      <th>Pavlovsk</th>\n",
       "      <td>20529.5</td>\n",
       "      <td>32683.0</td>\n",
       "    </tr>\n",
       "    <tr>\n",
       "      <th>Pesochny village</th>\n",
       "      <td>54831.5</td>\n",
       "      <td>26099.5</td>\n",
       "    </tr>\n",
       "    <tr>\n",
       "      <th>Petergof</th>\n",
       "      <td>39231.0</td>\n",
       "      <td>33771.0</td>\n",
       "    </tr>\n",
       "    <tr>\n",
       "      <th>Pontonny village</th>\n",
       "      <td>30642.0</td>\n",
       "      <td>32354.0</td>\n",
       "    </tr>\n",
       "    <tr>\n",
       "      <th>Pushkin</th>\n",
       "      <td>15766.0</td>\n",
       "      <td>27930.5</td>\n",
       "    </tr>\n",
       "    <tr>\n",
       "      <th>Saint Petersburg</th>\n",
       "      <td>26757.5</td>\n",
       "      <td>12244.5</td>\n",
       "    </tr>\n",
       "    <tr>\n",
       "      <th>Sapyorny village</th>\n",
       "      <td>34147.5</td>\n",
       "      <td>35859.5</td>\n",
       "    </tr>\n",
       "    <tr>\n",
       "      <th>Sestroretsk</th>\n",
       "      <td>56692.0</td>\n",
       "      <td>34821.0</td>\n",
       "    </tr>\n",
       "    <tr>\n",
       "      <th>Shushary village</th>\n",
       "      <td>17427.0</td>\n",
       "      <td>24212.0</td>\n",
       "    </tr>\n",
       "    <tr>\n",
       "      <th>Strelna village</th>\n",
       "      <td>28317.0</td>\n",
       "      <td>23506.0</td>\n",
       "    </tr>\n",
       "    <tr>\n",
       "      <th>Ust-Izhora village</th>\n",
       "      <td>26510.5</td>\n",
       "      <td>28222.5</td>\n",
       "    </tr>\n",
       "    <tr>\n",
       "      <th>Zelenogorsk</th>\n",
       "      <td>72282.0</td>\n",
       "      <td>53381.0</td>\n",
       "    </tr>\n",
       "    <tr>\n",
       "      <th>village Petro-Slavyanka</th>\n",
       "      <td>20605.0</td>\n",
       "      <td>27165.0</td>\n",
       "    </tr>\n",
       "    <tr>\n",
       "      <th>village Repino</th>\n",
       "      <td>61797.5</td>\n",
       "      <td>42896.5</td>\n",
       "    </tr>\n",
       "    <tr>\n",
       "      <th>village Shcheglovo</th>\n",
       "      <td>61908.0</td>\n",
       "      <td>34085.0</td>\n",
       "    </tr>\n",
       "  </tbody>\n",
       "</table>\n",
       "</div>"
      ],
      "text/plain": [
       "                          airport_dist  city_center_dist\n",
       "locality_name                                           \n",
       "Aleksandrovskaya village       12896.5           27468.0\n",
       "Beloostrov village             57769.0           38868.0\n",
       "Kolpino                        26232.0           32018.0\n",
       "Krasnoye Selo                  25715.5           29140.5\n",
       "Kronshtadt                     67850.0           49575.0\n",
       "Levashovo village              52693.0           25727.0\n",
       "Lisiy Nos village              55909.0           28226.0\n",
       "Lomonosov                      48415.5           51677.0\n",
       "Metallostroy village           25758.0           27602.0\n",
       "Molodyozhnoye village          84665.0           65764.0\n",
       "Murino village                 51553.0           21888.0\n",
       "Pargolovo village              53426.0           19311.0\n",
       "Pavlovsk                       20529.5           32683.0\n",
       "Pesochny village               54831.5           26099.5\n",
       "Petergof                       39231.0           33771.0\n",
       "Pontonny village               30642.0           32354.0\n",
       "Pushkin                        15766.0           27930.5\n",
       "Saint Petersburg               26757.5           12244.5\n",
       "Sapyorny village               34147.5           35859.5\n",
       "Sestroretsk                    56692.0           34821.0\n",
       "Shushary village               17427.0           24212.0\n",
       "Strelna village                28317.0           23506.0\n",
       "Ust-Izhora village             26510.5           28222.5\n",
       "Zelenogorsk                    72282.0           53381.0\n",
       "village Petro-Slavyanka        20605.0           27165.0\n",
       "village Repino                 61797.5           42896.5\n",
       "village Shcheglovo             61908.0           34085.0"
      ]
     },
     "execution_count": 27,
     "metadata": {},
     "output_type": "execute_result"
    }
   ],
   "source": [
    "mdt = data.pivot_table(index='locality_name', values=['airport_dist','city_center_dist'], aggfunc='median')\n",
    "mdt"
   ]
  },
  {
   "cell_type": "code",
   "execution_count": 28,
   "metadata": {},
   "outputs": [],
   "source": [
    "def close_approximation(data_row, data_col):\n",
    "    name = data_row['locality_name']\n",
    "    if name in list(mdt.index):\n",
    "        return mdt.loc[name][data_col]\n",
    "    else:\n",
    "        return data_row[data_col]"
   ]
  },
  {
   "cell_type": "code",
   "execution_count": 29,
   "metadata": {},
   "outputs": [],
   "source": [
    "cols = ['airport_dist','city_center_dist']\n",
    "\n",
    "for elem in cols:\n",
    "    data.loc[data[elem].isnull(), elem]= data.apply(close_approximation,axis=1,args=(cols,))"
   ]
  },
  {
   "cell_type": "code",
   "execution_count": 30,
   "metadata": {},
   "outputs": [
    {
     "data": {
      "text/plain": [
       "300"
      ]
     },
     "execution_count": 30,
     "metadata": {},
     "output_type": "execute_result"
    }
   ],
   "source": [
    "len(data[data['city_center_dist'].isnull()]['locality_name'].unique())\n",
    "#amount of the still mistsing entries in the localities\n"
   ]
  },
  {
   "cell_type": "markdown",
   "metadata": {},
   "source": [
    "<div class=\"alert alert-success\" role=\"alert\">\n",
    "That's a very good thinking and in general a perfectly correct approach, well done!\n",
    "\n",
    "</div>"
   ]
  },
  {
   "cell_type": "code",
   "execution_count": 31,
   "metadata": {},
   "outputs": [
    {
     "data": {
      "text/plain": [
       "date_posted              0\n",
       "days_listed           3181\n",
       "last_price               0\n",
       "bedrooms                 0\n",
       "kitchen_area             0\n",
       "living_area              0\n",
       "total_area               0\n",
       "balconies                0\n",
       "ceiling_height           0\n",
       "floors_total            86\n",
       "floor                    0\n",
       "total_images             0\n",
       "bike_parking         20924\n",
       "is_studio                0\n",
       "is_open_plan             0\n",
       "locality_name           49\n",
       "airport_dist          4872\n",
       "city_center_dist      4872\n",
       "park_dist            15620\n",
       "parks_within_3000     5518\n",
       "pond_dist            14589\n",
       "ponds_within_3000     5518\n",
       "dtype: int64"
      ]
     },
     "execution_count": 31,
     "metadata": {},
     "output_type": "execute_result"
    }
   ],
   "source": [
    "data.isnull().sum()\n"
   ]
  },
  {
   "cell_type": "markdown",
   "metadata": {},
   "source": [
    "<div class=\"alert alert-success\" role=\"alert\">\n",
    "<b>All in all, this step was done perfectly. Very good thinking!</b>\n",
    "</div>"
   ]
  },
  {
   "cell_type": "markdown",
   "metadata": {},
   "source": [
    "### Step 3. Make calculations and add them to the table"
   ]
  },
  {
   "cell_type": "markdown",
   "metadata": {},
   "source": [
    "    the price per square meter\n",
    "    the day of the week, month, and year that the ad was published\n",
    "    which floor the apartment is on (first, last, or other)\n",
    "    the ratio between the living space and the total area, as well as between the kitchen space and the total area."
   ]
  },
  {
   "cell_type": "markdown",
   "metadata": {},
   "source": [
    "-- the price per square meter"
   ]
  },
  {
   "cell_type": "code",
   "execution_count": 32,
   "metadata": {},
   "outputs": [],
   "source": [
    "data['square_meter_price'] = data['last_price']/data['total_area']"
   ]
  },
  {
   "cell_type": "markdown",
   "metadata": {},
   "source": [
    "--     the day of the week, month, and year that the ad was published"
   ]
  },
  {
   "cell_type": "code",
   "execution_count": 33,
   "metadata": {},
   "outputs": [],
   "source": [
    "data['day_ad_published'] = data['date_posted'].dt.dayofweek\n",
    "data['month_ad_published'] = data['date_posted'].dt.month\n",
    "data['year_ad_published'] = data['date_posted'].dt.year"
   ]
  },
  {
   "cell_type": "markdown",
   "metadata": {},
   "source": [
    "--    which floor the apartment is on (first, last, or other)\n"
   ]
  },
  {
   "cell_type": "code",
   "execution_count": 34,
   "metadata": {},
   "outputs": [
    {
     "data": {
      "text/plain": [
       "0         8\n",
       "1         1\n",
       "2         4\n",
       "3         9\n",
       "4        13\n",
       "         ..\n",
       "23694     3\n",
       "23695     4\n",
       "23696     1\n",
       "23697    12\n",
       "23698     1\n",
       "Name: floor, Length: 23699, dtype: int64"
      ]
     },
     "execution_count": 34,
     "metadata": {},
     "output_type": "execute_result"
    }
   ],
   "source": [
    "data['floor']"
   ]
  },
  {
   "cell_type": "code",
   "execution_count": 35,
   "metadata": {},
   "outputs": [],
   "source": [
    "def fl(row):\n",
    "\n",
    "\n",
    "    if row['floor'] == 1:\n",
    "        return 'first'\n",
    "    elif row['floor'] == row['floors_total']:\n",
    "        return 'last'\n",
    "    else:\n",
    "        return 'other'\n",
    "    \n",
    "data.loc[:, 'floor'] = data.apply(fl, axis=1)"
   ]
  },
  {
   "cell_type": "code",
   "execution_count": 36,
   "metadata": {},
   "outputs": [
    {
     "data": {
      "text/plain": [
       "other    17446\n",
       "last      3336\n",
       "first     2917\n",
       "Name: floor, dtype: int64"
      ]
     },
     "execution_count": 36,
     "metadata": {},
     "output_type": "execute_result"
    }
   ],
   "source": [
    "data['floor'].value_counts()"
   ]
  },
  {
   "cell_type": "markdown",
   "metadata": {},
   "source": [
    "--     the ratio between the living space and the total area"
   ]
  },
  {
   "cell_type": "code",
   "execution_count": 37,
   "metadata": {},
   "outputs": [],
   "source": [
    "data['living_total_ratio'] = data['living_area']/data['total_area']"
   ]
  },
  {
   "cell_type": "markdown",
   "metadata": {},
   "source": [
    "-- the ratio between the kitchen space and the total area."
   ]
  },
  {
   "cell_type": "code",
   "execution_count": 38,
   "metadata": {},
   "outputs": [],
   "source": [
    "data['kitchen_total_ratio'] = data['kitchen_area'] / data['total_area']"
   ]
  },
  {
   "cell_type": "code",
   "execution_count": 39,
   "metadata": {},
   "outputs": [
    {
     "data": {
      "text/html": [
       "<div>\n",
       "<style scoped>\n",
       "    .dataframe tbody tr th:only-of-type {\n",
       "        vertical-align: middle;\n",
       "    }\n",
       "\n",
       "    .dataframe tbody tr th {\n",
       "        vertical-align: top;\n",
       "    }\n",
       "\n",
       "    .dataframe thead th {\n",
       "        text-align: right;\n",
       "    }\n",
       "</style>\n",
       "<table border=\"1\" class=\"dataframe\">\n",
       "  <thead>\n",
       "    <tr style=\"text-align: right;\">\n",
       "      <th></th>\n",
       "      <th>date_posted</th>\n",
       "      <th>days_listed</th>\n",
       "      <th>last_price</th>\n",
       "      <th>bedrooms</th>\n",
       "      <th>kitchen_area</th>\n",
       "      <th>living_area</th>\n",
       "      <th>total_area</th>\n",
       "      <th>balconies</th>\n",
       "      <th>ceiling_height</th>\n",
       "      <th>floors_total</th>\n",
       "      <th>...</th>\n",
       "      <th>park_dist</th>\n",
       "      <th>parks_within_3000</th>\n",
       "      <th>pond_dist</th>\n",
       "      <th>ponds_within_3000</th>\n",
       "      <th>square_meter_price</th>\n",
       "      <th>day_ad_published</th>\n",
       "      <th>month_ad_published</th>\n",
       "      <th>year_ad_published</th>\n",
       "      <th>living_total_ratio</th>\n",
       "      <th>kitchen_total_ratio</th>\n",
       "    </tr>\n",
       "  </thead>\n",
       "  <tbody>\n",
       "    <tr>\n",
       "      <th>0</th>\n",
       "      <td>2019-03-07</td>\n",
       "      <td>NaN</td>\n",
       "      <td>260000.0</td>\n",
       "      <td>3</td>\n",
       "      <td>25.000000</td>\n",
       "      <td>51.000000</td>\n",
       "      <td>108.0</td>\n",
       "      <td>0.0</td>\n",
       "      <td>2.70</td>\n",
       "      <td>16.0</td>\n",
       "      <td>...</td>\n",
       "      <td>482.0</td>\n",
       "      <td>1.0</td>\n",
       "      <td>755.0</td>\n",
       "      <td>2.0</td>\n",
       "      <td>2407.407407</td>\n",
       "      <td>3</td>\n",
       "      <td>3</td>\n",
       "      <td>2019</td>\n",
       "      <td>0.472222</td>\n",
       "      <td>0.231481</td>\n",
       "    </tr>\n",
       "    <tr>\n",
       "      <th>1</th>\n",
       "      <td>2018-12-04</td>\n",
       "      <td>81.0</td>\n",
       "      <td>67000.0</td>\n",
       "      <td>1</td>\n",
       "      <td>11.000000</td>\n",
       "      <td>18.600000</td>\n",
       "      <td>40.4</td>\n",
       "      <td>2.0</td>\n",
       "      <td>2.65</td>\n",
       "      <td>11.0</td>\n",
       "      <td>...</td>\n",
       "      <td>NaN</td>\n",
       "      <td>0.0</td>\n",
       "      <td>NaN</td>\n",
       "      <td>0.0</td>\n",
       "      <td>1658.415842</td>\n",
       "      <td>1</td>\n",
       "      <td>12</td>\n",
       "      <td>2018</td>\n",
       "      <td>0.460396</td>\n",
       "      <td>0.272277</td>\n",
       "    </tr>\n",
       "    <tr>\n",
       "      <th>2</th>\n",
       "      <td>2015-08-20</td>\n",
       "      <td>558.0</td>\n",
       "      <td>103920.0</td>\n",
       "      <td>2</td>\n",
       "      <td>8.300000</td>\n",
       "      <td>34.300000</td>\n",
       "      <td>56.0</td>\n",
       "      <td>0.0</td>\n",
       "      <td>2.65</td>\n",
       "      <td>5.0</td>\n",
       "      <td>...</td>\n",
       "      <td>90.0</td>\n",
       "      <td>1.0</td>\n",
       "      <td>574.0</td>\n",
       "      <td>2.0</td>\n",
       "      <td>1855.714286</td>\n",
       "      <td>3</td>\n",
       "      <td>8</td>\n",
       "      <td>2015</td>\n",
       "      <td>0.612500</td>\n",
       "      <td>0.148214</td>\n",
       "    </tr>\n",
       "    <tr>\n",
       "      <th>3</th>\n",
       "      <td>2015-07-24</td>\n",
       "      <td>424.0</td>\n",
       "      <td>1298000.0</td>\n",
       "      <td>3</td>\n",
       "      <td>68.710276</td>\n",
       "      <td>90.289724</td>\n",
       "      <td>159.0</td>\n",
       "      <td>0.0</td>\n",
       "      <td>2.65</td>\n",
       "      <td>14.0</td>\n",
       "      <td>...</td>\n",
       "      <td>84.0</td>\n",
       "      <td>2.0</td>\n",
       "      <td>234.0</td>\n",
       "      <td>3.0</td>\n",
       "      <td>8163.522013</td>\n",
       "      <td>4</td>\n",
       "      <td>7</td>\n",
       "      <td>2015</td>\n",
       "      <td>0.567860</td>\n",
       "      <td>0.432140</td>\n",
       "    </tr>\n",
       "    <tr>\n",
       "      <th>4</th>\n",
       "      <td>2018-06-19</td>\n",
       "      <td>121.0</td>\n",
       "      <td>200000.0</td>\n",
       "      <td>2</td>\n",
       "      <td>41.000000</td>\n",
       "      <td>32.000000</td>\n",
       "      <td>100.0</td>\n",
       "      <td>0.0</td>\n",
       "      <td>3.03</td>\n",
       "      <td>14.0</td>\n",
       "      <td>...</td>\n",
       "      <td>112.0</td>\n",
       "      <td>2.0</td>\n",
       "      <td>48.0</td>\n",
       "      <td>1.0</td>\n",
       "      <td>2000.000000</td>\n",
       "      <td>1</td>\n",
       "      <td>6</td>\n",
       "      <td>2018</td>\n",
       "      <td>0.320000</td>\n",
       "      <td>0.410000</td>\n",
       "    </tr>\n",
       "  </tbody>\n",
       "</table>\n",
       "<p>5 rows × 28 columns</p>\n",
       "</div>"
      ],
      "text/plain": [
       "  date_posted  days_listed  last_price  bedrooms  kitchen_area  living_area  \\\n",
       "0  2019-03-07          NaN    260000.0         3     25.000000    51.000000   \n",
       "1  2018-12-04         81.0     67000.0         1     11.000000    18.600000   \n",
       "2  2015-08-20        558.0    103920.0         2      8.300000    34.300000   \n",
       "3  2015-07-24        424.0   1298000.0         3     68.710276    90.289724   \n",
       "4  2018-06-19        121.0    200000.0         2     41.000000    32.000000   \n",
       "\n",
       "   total_area  balconies  ceiling_height  floors_total  ... park_dist  \\\n",
       "0       108.0        0.0            2.70          16.0  ...     482.0   \n",
       "1        40.4        2.0            2.65          11.0  ...       NaN   \n",
       "2        56.0        0.0            2.65           5.0  ...      90.0   \n",
       "3       159.0        0.0            2.65          14.0  ...      84.0   \n",
       "4       100.0        0.0            3.03          14.0  ...     112.0   \n",
       "\n",
       "   parks_within_3000 pond_dist  ponds_within_3000  square_meter_price  \\\n",
       "0                1.0     755.0                2.0         2407.407407   \n",
       "1                0.0       NaN                0.0         1658.415842   \n",
       "2                1.0     574.0                2.0         1855.714286   \n",
       "3                2.0     234.0                3.0         8163.522013   \n",
       "4                2.0      48.0                1.0         2000.000000   \n",
       "\n",
       "  day_ad_published  month_ad_published  year_ad_published  living_total_ratio  \\\n",
       "0                3                   3               2019            0.472222   \n",
       "1                1                  12               2018            0.460396   \n",
       "2                3                   8               2015            0.612500   \n",
       "3                4                   7               2015            0.567860   \n",
       "4                1                   6               2018            0.320000   \n",
       "\n",
       "   kitchen_total_ratio  \n",
       "0             0.231481  \n",
       "1             0.272277  \n",
       "2             0.148214  \n",
       "3             0.432140  \n",
       "4             0.410000  \n",
       "\n",
       "[5 rows x 28 columns]"
      ]
     },
     "execution_count": 39,
     "metadata": {},
     "output_type": "execute_result"
    }
   ],
   "source": [
    "data.head()"
   ]
  },
  {
   "cell_type": "markdown",
   "metadata": {},
   "source": [
    "<div class=\"alert alert-success\" role=\"alert\">\n",
    "Everything is correct, nice!\n",
    "</div>"
   ]
  },
  {
   "cell_type": "markdown",
   "metadata": {},
   "source": [
    "### Step 4. Conduct exploratory data analysis :"
   ]
  },
  {
   "cell_type": "markdown",
   "metadata": {},
   "source": []
  },
  {
   "cell_type": "markdown",
   "metadata": {},
   "source": [
    "## -- Exploring the last_price (total price) parameter"
   ]
  },
  {
   "cell_type": "code",
   "execution_count": 40,
   "metadata": {},
   "outputs": [
    {
     "data": {
      "text/plain": [
       "Index(['date_posted', 'days_listed', 'last_price', 'bedrooms', 'kitchen_area',\n",
       "       'living_area', 'total_area', 'balconies', 'ceiling_height',\n",
       "       'floors_total', 'floor', 'total_images', 'bike_parking', 'is_studio',\n",
       "       'is_open_plan', 'locality_name', 'airport_dist', 'city_center_dist',\n",
       "       'park_dist', 'parks_within_3000', 'pond_dist', 'ponds_within_3000',\n",
       "       'square_meter_price', 'day_ad_published', 'month_ad_published',\n",
       "       'year_ad_published', 'living_total_ratio', 'kitchen_total_ratio'],\n",
       "      dtype='object')"
      ]
     },
     "execution_count": 40,
     "metadata": {},
     "output_type": "execute_result"
    }
   ],
   "source": [
    "data.columns"
   ]
  },
  {
   "cell_type": "code",
   "execution_count": 41,
   "metadata": {},
   "outputs": [
    {
     "data": {
      "text/plain": [
       "count    2.369900e+04\n",
       "mean     1.308310e+05\n",
       "std      2.177403e+05\n",
       "min      2.440000e+02\n",
       "25%      6.800000e+04\n",
       "50%      9.300000e+04\n",
       "75%      1.360000e+05\n",
       "max      1.526000e+07\n",
       "Name: last_price, dtype: float64"
      ]
     },
     "execution_count": 41,
     "metadata": {},
     "output_type": "execute_result"
    }
   ],
   "source": [
    "data['last_price'].describe()"
   ]
  },
  {
   "cell_type": "code",
   "execution_count": 42,
   "metadata": {
    "scrolled": true
   },
   "outputs": [
    {
     "data": {
      "image/png": "[encoded data removed]",
      "text/plain": [
       "<Figure size 432x288 with 1 Axes>"
      ]
     },
     "metadata": {
      "needs_background": "light"
     },
     "output_type": "display_data"
    }
   ],
   "source": [
    "plt.ylim(6.800000e+04-2.177403e+05/2,1.360000e+05+2.177403e+05/2)\n",
    "data.boxplot('last_price')\n",
    "plt.show()"
   ]
  },
  {
   "cell_type": "markdown",
   "metadata": {},
   "source": [
    "The middle 50% of the data lie between 6.800000e+04 and 1.360000e+05. The lower tail is around 0, while the upper tail is around 230000"
   ]
  },
  {
   "cell_type": "code",
   "execution_count": 43,
   "metadata": {},
   "outputs": [
    {
     "data": {
      "image/png": "[encoded data removed]",
      "text/plain": [
       "<Figure size 432x288 with 1 Axes>"
      ]
     },
     "metadata": {
      "needs_background": "light"
     },
     "output_type": "display_data"
    }
   ],
   "source": [
    "plt.ylabel('number of apartments')\n",
    "plt.xlabel('last_price')\n",
    "data['last_price'].hist(bins=100)\n",
    "plt.show()"
   ]
  },
  {
   "cell_type": "markdown",
   "metadata": {},
   "source": [
    "The distribution seems suspicious. We have an unusual peak around 0, so let's investigate further. "
   ]
  },
  {
   "cell_type": "code",
   "execution_count": 44,
   "metadata": {},
   "outputs": [
    {
     "data": {
      "text/html": [
       "<div>\n",
       "<style scoped>\n",
       "    .dataframe tbody tr th:only-of-type {\n",
       "        vertical-align: middle;\n",
       "    }\n",
       "\n",
       "    .dataframe tbody tr th {\n",
       "        vertical-align: top;\n",
       "    }\n",
       "\n",
       "    .dataframe thead th {\n",
       "        text-align: right;\n",
       "    }\n",
       "</style>\n",
       "<table border=\"1\" class=\"dataframe\">\n",
       "  <thead>\n",
       "    <tr style=\"text-align: right;\">\n",
       "      <th></th>\n",
       "      <th>date_posted</th>\n",
       "      <th>days_listed</th>\n",
       "      <th>last_price</th>\n",
       "      <th>bedrooms</th>\n",
       "      <th>kitchen_area</th>\n",
       "      <th>living_area</th>\n",
       "      <th>total_area</th>\n",
       "      <th>balconies</th>\n",
       "      <th>ceiling_height</th>\n",
       "      <th>floors_total</th>\n",
       "      <th>...</th>\n",
       "      <th>park_dist</th>\n",
       "      <th>parks_within_3000</th>\n",
       "      <th>pond_dist</th>\n",
       "      <th>ponds_within_3000</th>\n",
       "      <th>square_meter_price</th>\n",
       "      <th>day_ad_published</th>\n",
       "      <th>month_ad_published</th>\n",
       "      <th>year_ad_published</th>\n",
       "      <th>living_total_ratio</th>\n",
       "      <th>kitchen_total_ratio</th>\n",
       "    </tr>\n",
       "  </thead>\n",
       "  <tbody>\n",
       "    <tr>\n",
       "      <th>8793</th>\n",
       "      <td>2019-03-20</td>\n",
       "      <td>8.0</td>\n",
       "      <td>244.0</td>\n",
       "      <td>2</td>\n",
       "      <td>40.500000</td>\n",
       "      <td>32.000000</td>\n",
       "      <td>109.0</td>\n",
       "      <td>0.0</td>\n",
       "      <td>2.75</td>\n",
       "      <td>25.0</td>\n",
       "      <td>...</td>\n",
       "      <td>805.0</td>\n",
       "      <td>1.0</td>\n",
       "      <td>NaN</td>\n",
       "      <td>0.0</td>\n",
       "      <td>2.238532</td>\n",
       "      <td>2</td>\n",
       "      <td>3</td>\n",
       "      <td>2019</td>\n",
       "      <td>0.293578</td>\n",
       "      <td>0.371560</td>\n",
       "    </tr>\n",
       "    <tr>\n",
       "      <th>14911</th>\n",
       "      <td>2018-06-26</td>\n",
       "      <td>44.0</td>\n",
       "      <td>8600.0</td>\n",
       "      <td>2</td>\n",
       "      <td>23.335566</td>\n",
       "      <td>30.664434</td>\n",
       "      <td>54.0</td>\n",
       "      <td>0.0</td>\n",
       "      <td>2.65</td>\n",
       "      <td>3.0</td>\n",
       "      <td>...</td>\n",
       "      <td>NaN</td>\n",
       "      <td>NaN</td>\n",
       "      <td>NaN</td>\n",
       "      <td>NaN</td>\n",
       "      <td>159.259259</td>\n",
       "      <td>1</td>\n",
       "      <td>6</td>\n",
       "      <td>2018</td>\n",
       "      <td>0.567860</td>\n",
       "      <td>0.432140</td>\n",
       "    </tr>\n",
       "    <tr>\n",
       "      <th>17456</th>\n",
       "      <td>2019-04-22</td>\n",
       "      <td>NaN</td>\n",
       "      <td>8600.0</td>\n",
       "      <td>1</td>\n",
       "      <td>6.000000</td>\n",
       "      <td>16.000000</td>\n",
       "      <td>30.4</td>\n",
       "      <td>0.0</td>\n",
       "      <td>2.65</td>\n",
       "      <td>2.0</td>\n",
       "      <td>...</td>\n",
       "      <td>NaN</td>\n",
       "      <td>NaN</td>\n",
       "      <td>NaN</td>\n",
       "      <td>NaN</td>\n",
       "      <td>282.894737</td>\n",
       "      <td>0</td>\n",
       "      <td>4</td>\n",
       "      <td>2019</td>\n",
       "      <td>0.526316</td>\n",
       "      <td>0.197368</td>\n",
       "    </tr>\n",
       "    <tr>\n",
       "      <th>16274</th>\n",
       "      <td>2018-07-10</td>\n",
       "      <td>45.0</td>\n",
       "      <td>8800.0</td>\n",
       "      <td>1</td>\n",
       "      <td>17.285604</td>\n",
       "      <td>22.714396</td>\n",
       "      <td>40.0</td>\n",
       "      <td>0.0</td>\n",
       "      <td>2.65</td>\n",
       "      <td>5.0</td>\n",
       "      <td>...</td>\n",
       "      <td>NaN</td>\n",
       "      <td>NaN</td>\n",
       "      <td>NaN</td>\n",
       "      <td>NaN</td>\n",
       "      <td>220.000000</td>\n",
       "      <td>1</td>\n",
       "      <td>7</td>\n",
       "      <td>2018</td>\n",
       "      <td>0.567860</td>\n",
       "      <td>0.432140</td>\n",
       "    </tr>\n",
       "    <tr>\n",
       "      <th>5698</th>\n",
       "      <td>2017-07-31</td>\n",
       "      <td>233.0</td>\n",
       "      <td>9000.0</td>\n",
       "      <td>2</td>\n",
       "      <td>5.800000</td>\n",
       "      <td>23.000000</td>\n",
       "      <td>42.0</td>\n",
       "      <td>0.0</td>\n",
       "      <td>2.65</td>\n",
       "      <td>1.0</td>\n",
       "      <td>...</td>\n",
       "      <td>NaN</td>\n",
       "      <td>NaN</td>\n",
       "      <td>NaN</td>\n",
       "      <td>NaN</td>\n",
       "      <td>214.285714</td>\n",
       "      <td>0</td>\n",
       "      <td>7</td>\n",
       "      <td>2017</td>\n",
       "      <td>0.547619</td>\n",
       "      <td>0.138095</td>\n",
       "    </tr>\n",
       "    <tr>\n",
       "      <th>...</th>\n",
       "      <td>...</td>\n",
       "      <td>...</td>\n",
       "      <td>...</td>\n",
       "      <td>...</td>\n",
       "      <td>...</td>\n",
       "      <td>...</td>\n",
       "      <td>...</td>\n",
       "      <td>...</td>\n",
       "      <td>...</td>\n",
       "      <td>...</td>\n",
       "      <td>...</td>\n",
       "      <td>...</td>\n",
       "      <td>...</td>\n",
       "      <td>...</td>\n",
       "      <td>...</td>\n",
       "      <td>...</td>\n",
       "      <td>...</td>\n",
       "      <td>...</td>\n",
       "      <td>...</td>\n",
       "      <td>...</td>\n",
       "      <td>...</td>\n",
       "    </tr>\n",
       "    <tr>\n",
       "      <th>22991</th>\n",
       "      <td>2015-03-19</td>\n",
       "      <td>804.0</td>\n",
       "      <td>67980.0</td>\n",
       "      <td>1</td>\n",
       "      <td>8.100000</td>\n",
       "      <td>15.400000</td>\n",
       "      <td>31.1</td>\n",
       "      <td>1.0</td>\n",
       "      <td>2.65</td>\n",
       "      <td>9.0</td>\n",
       "      <td>...</td>\n",
       "      <td>NaN</td>\n",
       "      <td>0.0</td>\n",
       "      <td>NaN</td>\n",
       "      <td>0.0</td>\n",
       "      <td>2185.852090</td>\n",
       "      <td>3</td>\n",
       "      <td>3</td>\n",
       "      <td>2015</td>\n",
       "      <td>0.495177</td>\n",
       "      <td>0.260450</td>\n",
       "    </tr>\n",
       "    <tr>\n",
       "      <th>23593</th>\n",
       "      <td>2017-12-10</td>\n",
       "      <td>123.0</td>\n",
       "      <td>67980.0</td>\n",
       "      <td>1</td>\n",
       "      <td>10.000000</td>\n",
       "      <td>17.000000</td>\n",
       "      <td>35.0</td>\n",
       "      <td>2.0</td>\n",
       "      <td>2.70</td>\n",
       "      <td>18.0</td>\n",
       "      <td>...</td>\n",
       "      <td>NaN</td>\n",
       "      <td>NaN</td>\n",
       "      <td>NaN</td>\n",
       "      <td>NaN</td>\n",
       "      <td>1942.285714</td>\n",
       "      <td>6</td>\n",
       "      <td>12</td>\n",
       "      <td>2017</td>\n",
       "      <td>0.485714</td>\n",
       "      <td>0.285714</td>\n",
       "    </tr>\n",
       "    <tr>\n",
       "      <th>2400</th>\n",
       "      <td>2017-11-10</td>\n",
       "      <td>203.0</td>\n",
       "      <td>67980.0</td>\n",
       "      <td>1</td>\n",
       "      <td>8.100000</td>\n",
       "      <td>15.400000</td>\n",
       "      <td>30.4</td>\n",
       "      <td>0.0</td>\n",
       "      <td>2.65</td>\n",
       "      <td>9.0</td>\n",
       "      <td>...</td>\n",
       "      <td>278.0</td>\n",
       "      <td>2.0</td>\n",
       "      <td>NaN</td>\n",
       "      <td>0.0</td>\n",
       "      <td>2236.184211</td>\n",
       "      <td>4</td>\n",
       "      <td>11</td>\n",
       "      <td>2017</td>\n",
       "      <td>0.506579</td>\n",
       "      <td>0.266447</td>\n",
       "    </tr>\n",
       "    <tr>\n",
       "      <th>2088</th>\n",
       "      <td>2018-03-27</td>\n",
       "      <td>125.0</td>\n",
       "      <td>67980.0</td>\n",
       "      <td>3</td>\n",
       "      <td>8.300000</td>\n",
       "      <td>43.800000</td>\n",
       "      <td>74.2</td>\n",
       "      <td>0.0</td>\n",
       "      <td>2.50</td>\n",
       "      <td>9.0</td>\n",
       "      <td>...</td>\n",
       "      <td>NaN</td>\n",
       "      <td>NaN</td>\n",
       "      <td>NaN</td>\n",
       "      <td>NaN</td>\n",
       "      <td>916.172507</td>\n",
       "      <td>1</td>\n",
       "      <td>3</td>\n",
       "      <td>2018</td>\n",
       "      <td>0.590296</td>\n",
       "      <td>0.111860</td>\n",
       "    </tr>\n",
       "    <tr>\n",
       "      <th>8188</th>\n",
       "      <td>2016-10-10</td>\n",
       "      <td>591.0</td>\n",
       "      <td>67980.0</td>\n",
       "      <td>2</td>\n",
       "      <td>5.500000</td>\n",
       "      <td>34.400000</td>\n",
       "      <td>48.2</td>\n",
       "      <td>0.0</td>\n",
       "      <td>2.53</td>\n",
       "      <td>5.0</td>\n",
       "      <td>...</td>\n",
       "      <td>NaN</td>\n",
       "      <td>0.0</td>\n",
       "      <td>NaN</td>\n",
       "      <td>0.0</td>\n",
       "      <td>1410.373444</td>\n",
       "      <td>0</td>\n",
       "      <td>10</td>\n",
       "      <td>2016</td>\n",
       "      <td>0.713693</td>\n",
       "      <td>0.114108</td>\n",
       "    </tr>\n",
       "  </tbody>\n",
       "</table>\n",
       "<p>5700 rows × 28 columns</p>\n",
       "</div>"
      ],
      "text/plain": [
       "      date_posted  days_listed  last_price  bedrooms  kitchen_area  \\\n",
       "8793   2019-03-20          8.0       244.0         2     40.500000   \n",
       "14911  2018-06-26         44.0      8600.0         2     23.335566   \n",
       "17456  2019-04-22          NaN      8600.0         1      6.000000   \n",
       "16274  2018-07-10         45.0      8800.0         1     17.285604   \n",
       "5698   2017-07-31        233.0      9000.0         2      5.800000   \n",
       "...           ...          ...         ...       ...           ...   \n",
       "22991  2015-03-19        804.0     67980.0         1      8.100000   \n",
       "23593  2017-12-10        123.0     67980.0         1     10.000000   \n",
       "2400   2017-11-10        203.0     67980.0         1      8.100000   \n",
       "2088   2018-03-27        125.0     67980.0         3      8.300000   \n",
       "8188   2016-10-10        591.0     67980.0         2      5.500000   \n",
       "\n",
       "       living_area  total_area  balconies  ceiling_height  floors_total  ...  \\\n",
       "8793     32.000000       109.0        0.0            2.75          25.0  ...   \n",
       "14911    30.664434        54.0        0.0            2.65           3.0  ...   \n",
       "17456    16.000000        30.4        0.0            2.65           2.0  ...   \n",
       "16274    22.714396        40.0        0.0            2.65           5.0  ...   \n",
       "5698     23.000000        42.0        0.0            2.65           1.0  ...   \n",
       "...            ...         ...        ...             ...           ...  ...   \n",
       "22991    15.400000        31.1        1.0            2.65           9.0  ...   \n",
       "23593    17.000000        35.0        2.0            2.70          18.0  ...   \n",
       "2400     15.400000        30.4        0.0            2.65           9.0  ...   \n",
       "2088     43.800000        74.2        0.0            2.50           9.0  ...   \n",
       "8188     34.400000        48.2        0.0            2.53           5.0  ...   \n",
       "\n",
       "      park_dist  parks_within_3000 pond_dist  ponds_within_3000  \\\n",
       "8793      805.0                1.0       NaN                0.0   \n",
       "14911       NaN                NaN       NaN                NaN   \n",
       "17456       NaN                NaN       NaN                NaN   \n",
       "16274       NaN                NaN       NaN                NaN   \n",
       "5698        NaN                NaN       NaN                NaN   \n",
       "...         ...                ...       ...                ...   \n",
       "22991       NaN                0.0       NaN                0.0   \n",
       "23593       NaN                NaN       NaN                NaN   \n",
       "2400      278.0                2.0       NaN                0.0   \n",
       "2088        NaN                NaN       NaN                NaN   \n",
       "8188        NaN                0.0       NaN                0.0   \n",
       "\n",
       "       square_meter_price day_ad_published  month_ad_published  \\\n",
       "8793             2.238532                2                   3   \n",
       "14911          159.259259                1                   6   \n",
       "17456          282.894737                0                   4   \n",
       "16274          220.000000                1                   7   \n",
       "5698           214.285714                0                   7   \n",
       "...                   ...              ...                 ...   \n",
       "22991         2185.852090                3                   3   \n",
       "23593         1942.285714                6                  12   \n",
       "2400          2236.184211                4                  11   \n",
       "2088           916.172507                1                   3   \n",
       "8188          1410.373444                0                  10   \n",
       "\n",
       "       year_ad_published  living_total_ratio  kitchen_total_ratio  \n",
       "8793                2019            0.293578             0.371560  \n",
       "14911               2018            0.567860             0.432140  \n",
       "17456               2019            0.526316             0.197368  \n",
       "16274               2018            0.567860             0.432140  \n",
       "5698                2017            0.547619             0.138095  \n",
       "...                  ...                 ...                  ...  \n",
       "22991               2015            0.495177             0.260450  \n",
       "23593               2017            0.485714             0.285714  \n",
       "2400                2017            0.506579             0.266447  \n",
       "2088                2018            0.590296             0.111860  \n",
       "8188                2016            0.713693             0.114108  \n",
       "\n",
       "[5700 rows x 28 columns]"
      ]
     },
     "execution_count": 44,
     "metadata": {},
     "output_type": "execute_result"
    }
   ],
   "source": [
    "sth = data.query('last_price < 6.800000e+04')\n",
    "sth.sort_values('last_price')"
   ]
  },
  {
   "cell_type": "markdown",
   "metadata": {},
   "source": [
    "Ha! In the first row, we see an apartment with total_area=109.0 and price 244.0. Such a big apartment can't be so cheap so let's see how the distribution looks without this outlier. Also let's limit the uppe price to the 75%+std/2"
   ]
  },
  {
   "cell_type": "code",
   "execution_count": 45,
   "metadata": {},
   "outputs": [
    {
     "data": {
      "text/plain": [
       "[]"
      ]
     },
     "execution_count": 45,
     "metadata": {},
     "output_type": "execute_result"
    },
    {
     "data": {
      "image/png": "[encoded data removed]",
      "text/plain": [
       "<Figure size 432x288 with 1 Axes>"
      ]
     },
     "metadata": {
      "needs_background": "light"
     },
     "output_type": "display_data"
    }
   ],
   "source": [
    "plt.xlabel('last_price')\n",
    "plt.ylabel('number of apartments')\n",
    "data.query('last_price>244.0 and last_price<=1.360000e+05++2.177403e+05/2')['last_price'].hist(bins=10)\n",
    "plt.plot()"
   ]
  },
  {
   "cell_type": "markdown",
   "metadata": {},
   "source": [
    "## -- Exploring the number of bedrooms parameter"
   ]
  },
  {
   "cell_type": "code",
   "execution_count": 46,
   "metadata": {},
   "outputs": [
    {
     "data": {
      "text/plain": [
       "count    23699.000000\n",
       "mean         2.070636\n",
       "std          1.078405\n",
       "min          0.000000\n",
       "25%          1.000000\n",
       "50%          2.000000\n",
       "75%          3.000000\n",
       "max         19.000000\n",
       "Name: bedrooms, dtype: float64"
      ]
     },
     "execution_count": 46,
     "metadata": {},
     "output_type": "execute_result"
    }
   ],
   "source": [
    "data['bedrooms'].describe()"
   ]
  },
  {
   "cell_type": "code",
   "execution_count": 47,
   "metadata": {},
   "outputs": [
    {
     "data": {
      "image/png": "[encoded data removed]",
      "text/plain": [
       "<Figure size 432x288 with 1 Axes>"
      ]
     },
     "metadata": {
      "needs_background": "light"
     },
     "output_type": "display_data"
    }
   ],
   "source": [
    "plt.ylim(1-1.078405,6.3)\n",
    "data.boxplot('bedrooms')\n",
    "plt.show()"
   ]
  },
  {
   "cell_type": "markdown",
   "metadata": {},
   "source": [
    "Look at the distribution and examine (potentially get rid of) the outliers"
   ]
  },
  {
   "cell_type": "code",
   "execution_count": 48,
   "metadata": {},
   "outputs": [
    {
     "data": {
      "image/png": "[encoded data removed]",
      "text/plain": [
       "<Figure size 432x288 with 1 Axes>"
      ]
     },
     "metadata": {
      "needs_background": "light"
     },
     "output_type": "display_data"
    }
   ],
   "source": [
    "plt.xlabel('bedrooms')\n",
    "plt.ylabel('number of apartments')\n",
    "data['bedrooms'].hist()\n",
    "plt.show()"
   ]
  },
  {
   "cell_type": "markdown",
   "metadata": {},
   "source": [
    "All apartments should have at least one bedroom, and they usually have no more than 6 bedrooms, so let's look at the modified distribution"
   ]
  },
  {
   "cell_type": "code",
   "execution_count": 49,
   "metadata": {},
   "outputs": [
    {
     "data": {
      "image/png": "[encoded data removed]",
      "text/plain": [
       "<Figure size 432x288 with 1 Axes>"
      ]
     },
     "metadata": {
      "needs_background": "light"
     },
     "output_type": "display_data"
    }
   ],
   "source": [
    "plt.xlabel('bedrooms')\n",
    "plt.ylabel('number of apartments')\n",
    "data.query('bedrooms>0 and bedrooms<7')['bedrooms'].hist()\n",
    "plt.show()\n"
   ]
  },
  {
   "cell_type": "markdown",
   "metadata": {},
   "source": [
    "This distribution is clearer, and gives us a better idea of what are the most sought after amount of bedrooms. "
   ]
  },
  {
   "cell_type": "markdown",
   "metadata": {},
   "source": [
    "## -- Exploring the total_area parameter"
   ]
  },
  {
   "cell_type": "code",
   "execution_count": 50,
   "metadata": {},
   "outputs": [
    {
     "data": {
      "text/plain": [
       "count    23699.000000\n",
       "mean        60.348651\n",
       "std         35.654083\n",
       "min         12.000000\n",
       "25%         40.000000\n",
       "50%         52.000000\n",
       "75%         69.900000\n",
       "max        900.000000\n",
       "Name: total_area, dtype: float64"
      ]
     },
     "execution_count": 50,
     "metadata": {},
     "output_type": "execute_result"
    }
   ],
   "source": [
    "data['total_area'].describe()"
   ]
  },
  {
   "cell_type": "code",
   "execution_count": 51,
   "metadata": {},
   "outputs": [
    {
     "data": {
      "image/png": "[encoded data removed]",
      "text/plain": [
       "<Figure size 432x288 with 1 Axes>"
      ]
     },
     "metadata": {
      "needs_background": "light"
     },
     "output_type": "display_data"
    }
   ],
   "source": [
    "plt.ylim(40.000000 - 35.654083, 120)\n",
    "data.boxplot('total_area')\n",
    "plt.show()"
   ]
  },
  {
   "cell_type": "markdown",
   "metadata": {},
   "source": [
    "The middle 50% of the data lies between 40.000000 and 69.900000. The lower tail is around 12, while the upper tail is around 118."
   ]
  },
  {
   "cell_type": "markdown",
   "metadata": {},
   "source": [
    "Examining the data within the two tails of the boxplot, i.e getting rid of the outliers. "
   ]
  },
  {
   "cell_type": "code",
   "execution_count": 52,
   "metadata": {},
   "outputs": [
    {
     "data": {
      "image/png": "[encoded data removed]",
      "text/plain": [
       "<Figure size 432x288 with 1 Axes>"
      ]
     },
     "metadata": {
      "needs_background": "light"
     },
     "output_type": "display_data"
    }
   ],
   "source": [
    "plt.xlabel('total_area')\n",
    "plt.ylabel('number of apartments')\n",
    "data.query('total_area>12 and total_area<69.900000+(2*35.654083)')['total_area'].hist()\n",
    "plt.show()"
   ]
  },
  {
   "cell_type": "markdown",
   "metadata": {},
   "source": [
    "## -- Exploring the ceiling_height parameter"
   ]
  },
  {
   "cell_type": "code",
   "execution_count": 53,
   "metadata": {},
   "outputs": [
    {
     "data": {
      "text/plain": [
       "count    23699.000000\n",
       "mean         2.724358\n",
       "std          0.988298\n",
       "min          1.000000\n",
       "25%          2.600000\n",
       "50%          2.650000\n",
       "75%          2.700000\n",
       "max        100.000000\n",
       "Name: ceiling_height, dtype: float64"
      ]
     },
     "execution_count": 53,
     "metadata": {},
     "output_type": "execute_result"
    }
   ],
   "source": [
    "data['ceiling_height'].describe()"
   ]
  },
  {
   "cell_type": "code",
   "execution_count": 54,
   "metadata": {},
   "outputs": [
    {
     "data": {
      "image/png": "[encoded data removed]",
      "text/plain": [
       "<Figure size 432x288 with 1 Axes>"
      ]
     },
     "metadata": {
      "needs_background": "light"
     },
     "output_type": "display_data"
    }
   ],
   "source": [
    "plt.ylim(1, 2.800000+1.261056/3)\n",
    "data.boxplot('ceiling_height')\n",
    "plt.show()"
   ]
  },
  {
   "cell_type": "markdown",
   "metadata": {},
   "source": [
    "The middle 50% of the data lies between 2.520000 and 2.800000. The lower tail is around 2.18, while the upper tail is around 2.80."
   ]
  },
  {
   "cell_type": "markdown",
   "metadata": {},
   "source": [
    "Looking at the distribution without outliers"
   ]
  },
  {
   "cell_type": "code",
   "execution_count": 59,
   "metadata": {},
   "outputs": [
    {
     "data": {
      "image/png": "[encoded data removed]",
      "text/plain": [
       "<Figure size 432x288 with 1 Axes>"
      ]
     },
     "metadata": {
      "needs_background": "light"
     },
     "output_type": "display_data"
    }
   ],
   "source": [
    "plt.xlabel('ceiling_height')\n",
    "plt.ylabel('number of apartments')\n",
    "data.query('ceiling_height>1 and ceiling_height<2.800000+1.261056/3')['ceiling_height'].hist()\n",
    "plt.show()"
   ]
  },
  {
   "cell_type": "markdown",
   "metadata": {},
   "source": [
    "### -- Examine the time it's taken to sell the apartment and plot a histogram. Calculate the mean and median and explain the average time it usually takes to complete a sale. When can a sale be considered to have happened rather quickly or taken an extra long time?"
   ]
  },
  {
   "cell_type": "code",
   "execution_count": 60,
   "metadata": {},
   "outputs": [
    {
     "data": {
      "text/plain": [
       "count    20518.000000\n",
       "mean       180.888634\n",
       "std        219.727988\n",
       "min          1.000000\n",
       "25%         45.000000\n",
       "50%         95.000000\n",
       "75%        232.000000\n",
       "max       1580.000000\n",
       "Name: days_listed, dtype: float64"
      ]
     },
     "execution_count": 60,
     "metadata": {},
     "output_type": "execute_result"
    }
   ],
   "source": [
    "data['days_listed'].describe()"
   ]
  },
  {
   "cell_type": "markdown",
   "metadata": {},
   "source": [
    "Let's look at the boxplot and set the y-limits"
   ]
  },
  {
   "cell_type": "code",
   "execution_count": 61,
   "metadata": {},
   "outputs": [
    {
     "data": {
      "image/png": "[encoded data removed]",
      "text/plain": [
       "<Figure size 432x288 with 1 Axes>"
      ]
     },
     "metadata": {
      "needs_background": "light"
     },
     "output_type": "display_data"
    }
   ],
   "source": [
    "plt.ylim(0, 199+2*169.360226)\n",
    "data.boxplot('days_listed')\n",
    "plt.show()"
   ]
  },
  {
   "cell_type": "markdown",
   "metadata": {},
   "source": [
    "The middle 50% of the data lies between 45.000000 and 199.000000. The lower tail is around 0, while the upper tail is around 430."
   ]
  },
  {
   "cell_type": "markdown",
   "metadata": {},
   "source": [
    "Let's make a histogram without outliers"
   ]
  },
  {
   "cell_type": "code",
   "execution_count": 62,
   "metadata": {},
   "outputs": [
    {
     "data": {
      "image/png": "[encoded data removed]",
      "text/plain": [
       "<Figure size 432x288 with 1 Axes>"
      ]
     },
     "metadata": {
      "needs_background": "light"
     },
     "output_type": "display_data"
    }
   ],
   "source": [
    "plt.xlabel('days_listed')\n",
    "plt.ylabel('number of apartments')\n",
    "data.query('days_listed>=0 and days_listed<=199+2*169.360226')['days_listed'].hist(bins=50)\n",
    "plt.show()"
   ]
  },
  {
   "cell_type": "markdown",
   "metadata": {},
   "source": [
    "<div class=\"alert alert-success\" role=\"alert\">\n",
    "Very nice way of dealing with outliers!\n",
    "\n",
    "</div>"
   ]
  },
  {
   "cell_type": "markdown",
   "metadata": {},
   "source": [
    "### Studying the factors that have had the biggest ingluence on apartment's price"
   ]
  },
  {
   "cell_type": "markdown",
   "metadata": {},
   "source": [
    "###### Relationship between the price and total_area"
   ]
  },
  {
   "cell_type": "code",
   "execution_count": 63,
   "metadata": {},
   "outputs": [],
   "source": [
    "\n",
    "#filtered last price\n",
    "filt_last_price = 'last_price>244.0 and last_price<=1.360000e+05++2.177403e+05/2'\n",
    "\n",
    "#filtered total area\n",
    "filt_total_area = 'total_area>12 and total_area<69.900000+(2*35.654083)'\n"
   ]
  },
  {
   "cell_type": "code",
   "execution_count": 64,
   "metadata": {
    "scrolled": true
   },
   "outputs": [
    {
     "data": {
      "image/png": "[encoded data removed]",
      "text/plain": [
       "<Figure size 432x288 with 1 Axes>"
      ]
     },
     "metadata": {
      "needs_background": "light"
     },
     "output_type": "display_data"
    }
   ],
   "source": [
    "rl_price_area = data.query(filt_total_area and filt_last_price)\n",
    "rl_price_area.plot(y='last_price', x='square_meter_price', kind= 'scatter')\n",
    "plt.show()"
   ]
  },
  {
   "cell_type": "code",
   "execution_count": 65,
   "metadata": {},
   "outputs": [
    {
     "data": {
      "text/plain": [
       "0.6079919951732645"
      ]
     },
     "execution_count": 65,
     "metadata": {},
     "output_type": "execute_result"
    }
   ],
   "source": [
    "rl_price_area['square_meter_price'].corr(rl_price_area['last_price'])"
   ]
  },
  {
   "cell_type": "markdown",
   "metadata": {},
   "source": [
    "For the scatterplot and correlation coefficient we see that the realtion between the square_meter_price and last_price is moderately strong"
   ]
  },
  {
   "cell_type": "markdown",
   "metadata": {},
   "source": [
    "###### Relationship between the price and number of rooms"
   ]
  },
  {
   "cell_type": "code",
   "execution_count": 66,
   "metadata": {},
   "outputs": [],
   "source": [
    "filt_bedrooms = 'bedrooms>0 and bedrooms<7'"
   ]
  },
  {
   "cell_type": "code",
   "execution_count": 67,
   "metadata": {},
   "outputs": [],
   "source": [
    "rl_price_bedrooms = data.query(filt_bedrooms and filt_last_price)"
   ]
  },
  {
   "cell_type": "code",
   "execution_count": 68,
   "metadata": {},
   "outputs": [
    {
     "data": {
      "text/plain": [
       "<matplotlib.axes._subplots.AxesSubplot at 0x25c25541808>"
      ]
     },
     "execution_count": 68,
     "metadata": {},
     "output_type": "execute_result"
    },
    {
     "data": {
      "image/png": "[encoded data removed]",
      "text/plain": [
       "<Figure size 432x288 with 1 Axes>"
      ]
     },
     "metadata": {
      "needs_background": "light"
     },
     "output_type": "display_data"
    }
   ],
   "source": [
    "rl_price_bedrooms.plot(x='bedrooms',y='last_price',kind='scatter')"
   ]
  },
  {
   "cell_type": "code",
   "execution_count": 69,
   "metadata": {},
   "outputs": [
    {
     "data": {
      "text/plain": [
       "0.45871395056320574"
      ]
     },
     "execution_count": 69,
     "metadata": {},
     "output_type": "execute_result"
    }
   ],
   "source": [
    "rl_price_bedrooms['last_price'].corr(rl_price_bedrooms['bedrooms'])"
   ]
  },
  {
   "cell_type": "markdown",
   "metadata": {},
   "source": [
    "For the scatterplot and correlation coefficient we see that the realtion between the bedrooms and last_price is moderately weak."
   ]
  },
  {
   "cell_type": "markdown",
   "metadata": {},
   "source": [
    "###### Relationship between the price and the floor location"
   ]
  },
  {
   "cell_type": "code",
   "execution_count": 70,
   "metadata": {},
   "outputs": [
    {
     "data": {
      "text/plain": [
       "floor         first\n",
       "last_price     8600\n",
       "dtype: object"
      ]
     },
     "execution_count": 70,
     "metadata": {},
     "output_type": "execute_result"
    }
   ],
   "source": [
    "filt_floors = data[['floor','last_price']].query(filt_last_price)\n",
    "filt_floors.min()\n"
   ]
  },
  {
   "cell_type": "code",
   "execution_count": 71,
   "metadata": {},
   "outputs": [
    {
     "data": {
      "text/plain": [
       "floor          other\n",
       "last_price    244622\n",
       "dtype: object"
      ]
     },
     "execution_count": 71,
     "metadata": {},
     "output_type": "execute_result"
    }
   ],
   "source": [
    "filt_floors.max()"
   ]
  },
  {
   "cell_type": "markdown",
   "metadata": {},
   "source": [
    "The first floor seems to be the cheapest while the 'other' floors are more expensive"
   ]
  },
  {
   "cell_type": "markdown",
   "metadata": {},
   "source": [
    "###### Relationship between the price and the city_center dist"
   ]
  },
  {
   "cell_type": "code",
   "execution_count": 72,
   "metadata": {
    "scrolled": true
   },
   "outputs": [
    {
     "data": {
      "text/html": [
       "<div>\n",
       "<style scoped>\n",
       "    .dataframe tbody tr th:only-of-type {\n",
       "        vertical-align: middle;\n",
       "    }\n",
       "\n",
       "    .dataframe tbody tr th {\n",
       "        vertical-align: top;\n",
       "    }\n",
       "\n",
       "    .dataframe thead th {\n",
       "        text-align: right;\n",
       "    }\n",
       "</style>\n",
       "<table border=\"1\" class=\"dataframe\">\n",
       "  <thead>\n",
       "    <tr style=\"text-align: right;\">\n",
       "      <th></th>\n",
       "      <th>city_center_dist</th>\n",
       "      <th>last_price</th>\n",
       "    </tr>\n",
       "  </thead>\n",
       "  <tbody>\n",
       "    <tr>\n",
       "      <th>1</th>\n",
       "      <td>18603.0</td>\n",
       "      <td>67000.0</td>\n",
       "    </tr>\n",
       "    <tr>\n",
       "      <th>2</th>\n",
       "      <td>13933.0</td>\n",
       "      <td>103920.0</td>\n",
       "    </tr>\n",
       "    <tr>\n",
       "      <th>4</th>\n",
       "      <td>8098.0</td>\n",
       "      <td>200000.0</td>\n",
       "    </tr>\n",
       "    <tr>\n",
       "      <th>5</th>\n",
       "      <td>NaN</td>\n",
       "      <td>57800.0</td>\n",
       "    </tr>\n",
       "    <tr>\n",
       "      <th>6</th>\n",
       "      <td>19143.0</td>\n",
       "      <td>74000.0</td>\n",
       "    </tr>\n",
       "    <tr>\n",
       "      <th>...</th>\n",
       "      <td>...</td>\n",
       "      <td>...</td>\n",
       "    </tr>\n",
       "    <tr>\n",
       "      <th>23694</th>\n",
       "      <td>4232.0</td>\n",
       "      <td>194000.0</td>\n",
       "    </tr>\n",
       "    <tr>\n",
       "      <th>23695</th>\n",
       "      <td>NaN</td>\n",
       "      <td>62000.0</td>\n",
       "    </tr>\n",
       "    <tr>\n",
       "      <th>23696</th>\n",
       "      <td>NaN</td>\n",
       "      <td>50000.0</td>\n",
       "    </tr>\n",
       "    <tr>\n",
       "      <th>23697</th>\n",
       "      <td>10364.0</td>\n",
       "      <td>229500.0</td>\n",
       "    </tr>\n",
       "    <tr>\n",
       "      <th>23698</th>\n",
       "      <td>NaN</td>\n",
       "      <td>27000.0</td>\n",
       "    </tr>\n",
       "  </tbody>\n",
       "</table>\n",
       "<p>21785 rows × 2 columns</p>\n",
       "</div>"
      ],
      "text/plain": [
       "       city_center_dist  last_price\n",
       "1               18603.0     67000.0\n",
       "2               13933.0    103920.0\n",
       "4                8098.0    200000.0\n",
       "5                   NaN     57800.0\n",
       "6               19143.0     74000.0\n",
       "...                 ...         ...\n",
       "23694            4232.0    194000.0\n",
       "23695               NaN     62000.0\n",
       "23696               NaN     50000.0\n",
       "23697           10364.0    229500.0\n",
       "23698               NaN     27000.0\n",
       "\n",
       "[21785 rows x 2 columns]"
      ]
     },
     "execution_count": 72,
     "metadata": {},
     "output_type": "execute_result"
    }
   ],
   "source": [
    "filt_dist = data[['city_center_dist','last_price']].query(filt_last_price)\n",
    "filt_dist"
   ]
  },
  {
   "cell_type": "code",
   "execution_count": 73,
   "metadata": {},
   "outputs": [
    {
     "data": {
      "text/plain": [
       "-0.36431788963682477"
      ]
     },
     "execution_count": 73,
     "metadata": {},
     "output_type": "execute_result"
    }
   ],
   "source": [
    "filt_dist['city_center_dist'].corr(filt_dist['last_price'])"
   ]
  },
  {
   "cell_type": "markdown",
   "metadata": {},
   "source": [
    "<div class=\"alert alert-success\" role=\"alert\">\n",
    "Those are very nice graphs and some solid conclusions! I liked that!\n",
    "\n",
    "</div>"
   ]
  },
  {
   "cell_type": "markdown",
   "metadata": {},
   "source": [
    "From correlation coefficient we see that the relation between the city_center_dist and last_price is weak."
   ]
  },
  {
   "cell_type": "markdown",
   "metadata": {},
   "source": [
    "###### Realtionship between the price and the publication date"
   ]
  },
  {
   "cell_type": "code",
   "execution_count": 74,
   "metadata": {},
   "outputs": [],
   "source": [
    "filt_days = 'days_listed>=0 and days_listed<=199+2*169.360226'\n",
    "rl_days_price = data.query(filt_days and filt_last_price)"
   ]
  },
  {
   "cell_type": "code",
   "execution_count": 75,
   "metadata": {},
   "outputs": [
    {
     "data": {
      "text/html": [
       "<div>\n",
       "<style scoped>\n",
       "    .dataframe tbody tr th:only-of-type {\n",
       "        vertical-align: middle;\n",
       "    }\n",
       "\n",
       "    .dataframe tbody tr th {\n",
       "        vertical-align: top;\n",
       "    }\n",
       "\n",
       "    .dataframe thead th {\n",
       "        text-align: right;\n",
       "    }\n",
       "</style>\n",
       "<table border=\"1\" class=\"dataframe\">\n",
       "  <thead>\n",
       "    <tr style=\"text-align: right;\">\n",
       "      <th></th>\n",
       "      <th>day_ad_published</th>\n",
       "      <th>month_ad_published</th>\n",
       "      <th>year_ad_published</th>\n",
       "      <th>last_price</th>\n",
       "    </tr>\n",
       "  </thead>\n",
       "  <tbody>\n",
       "    <tr>\n",
       "      <th>day_ad_published</th>\n",
       "      <td>1.000000</td>\n",
       "      <td>0.011603</td>\n",
       "      <td>-0.004481</td>\n",
       "      <td>-0.014864</td>\n",
       "    </tr>\n",
       "    <tr>\n",
       "      <th>month_ad_published</th>\n",
       "      <td>0.011603</td>\n",
       "      <td>1.000000</td>\n",
       "      <td>-0.266464</td>\n",
       "      <td>0.005724</td>\n",
       "    </tr>\n",
       "    <tr>\n",
       "      <th>year_ad_published</th>\n",
       "      <td>-0.004481</td>\n",
       "      <td>-0.266464</td>\n",
       "      <td>1.000000</td>\n",
       "      <td>-0.006369</td>\n",
       "    </tr>\n",
       "    <tr>\n",
       "      <th>last_price</th>\n",
       "      <td>-0.014864</td>\n",
       "      <td>0.005724</td>\n",
       "      <td>-0.006369</td>\n",
       "      <td>1.000000</td>\n",
       "    </tr>\n",
       "  </tbody>\n",
       "</table>\n",
       "</div>"
      ],
      "text/plain": [
       "                    day_ad_published  month_ad_published  year_ad_published  \\\n",
       "day_ad_published            1.000000            0.011603          -0.004481   \n",
       "month_ad_published          0.011603            1.000000          -0.266464   \n",
       "year_ad_published          -0.004481           -0.266464           1.000000   \n",
       "last_price                 -0.014864            0.005724          -0.006369   \n",
       "\n",
       "                    last_price  \n",
       "day_ad_published     -0.014864  \n",
       "month_ad_published    0.005724  \n",
       "year_ad_published    -0.006369  \n",
       "last_price            1.000000  "
      ]
     },
     "execution_count": 75,
     "metadata": {},
     "output_type": "execute_result"
    }
   ],
   "source": [
    "rl_days_price[[ 'day_ad_published','month_ad_published','year_ad_published','last_price']].corr()"
   ]
  },
  {
   "cell_type": "markdown",
   "metadata": {},
   "source": [
    "From the table and the correlation coefficient we see that there's almost no relationship between the price and the publication date "
   ]
  },
  {
   "cell_type": "markdown",
   "metadata": {},
   "source": [
    "Select the 10 localities with the largest number of ads then calculate the average price per square meter in these localities. Determine which ones have the highest and lowest housing prices. You can find this data by name in the ’locality_name’ column."
   ]
  },
  {
   "cell_type": "code",
   "execution_count": 76,
   "metadata": {
    "scrolled": true
   },
   "outputs": [],
   "source": [
    "ten_localities = data['locality_name'].value_counts().head(10)\n"
   ]
  },
  {
   "cell_type": "code",
   "execution_count": 77,
   "metadata": {
    "scrolled": true
   },
   "outputs": [
    {
     "data": {
      "text/html": [
       "<div>\n",
       "<style scoped>\n",
       "    .dataframe tbody tr th:only-of-type {\n",
       "        vertical-align: middle;\n",
       "    }\n",
       "\n",
       "    .dataframe tbody tr th {\n",
       "        vertical-align: top;\n",
       "    }\n",
       "\n",
       "    .dataframe thead th {\n",
       "        text-align: right;\n",
       "    }\n",
       "</style>\n",
       "<table border=\"1\" class=\"dataframe\">\n",
       "  <thead>\n",
       "    <tr style=\"text-align: right;\">\n",
       "      <th></th>\n",
       "      <th>square_meter_price</th>\n",
       "    </tr>\n",
       "    <tr>\n",
       "      <th>locality_name</th>\n",
       "      <th></th>\n",
       "    </tr>\n",
       "  </thead>\n",
       "  <tbody>\n",
       "    <tr>\n",
       "      <th>Saint Petersburg</th>\n",
       "      <td>2113.592577</td>\n",
       "    </tr>\n",
       "    <tr>\n",
       "      <th>Pushkin</th>\n",
       "      <td>2009.791316</td>\n",
       "    </tr>\n",
       "    <tr>\n",
       "      <th>Kudrovo village</th>\n",
       "      <td>1848.194463</td>\n",
       "    </tr>\n",
       "    <tr>\n",
       "      <th>Pargolovo village</th>\n",
       "      <td>1803.518265</td>\n",
       "    </tr>\n",
       "    <tr>\n",
       "      <th>Murino village</th>\n",
       "      <td>1713.635239</td>\n",
       "    </tr>\n",
       "    <tr>\n",
       "      <th>Shushary village</th>\n",
       "      <td>1573.547285</td>\n",
       "    </tr>\n",
       "    <tr>\n",
       "      <th>Kolpino</th>\n",
       "      <td>1503.709498</td>\n",
       "    </tr>\n",
       "    <tr>\n",
       "      <th>Gatchina</th>\n",
       "      <td>1368.438043</td>\n",
       "    </tr>\n",
       "    <tr>\n",
       "      <th>Vsevolozhsk</th>\n",
       "      <td>1344.285080</td>\n",
       "    </tr>\n",
       "    <tr>\n",
       "      <th>Vyborg</th>\n",
       "      <td>1158.657572</td>\n",
       "    </tr>\n",
       "  </tbody>\n",
       "</table>\n",
       "</div>"
      ],
      "text/plain": [
       "                   square_meter_price\n",
       "locality_name                        \n",
       "Saint Petersburg          2113.592577\n",
       "Pushkin                   2009.791316\n",
       "Kudrovo village           1848.194463\n",
       "Pargolovo village         1803.518265\n",
       "Murino village            1713.635239\n",
       "Shushary village          1573.547285\n",
       "Kolpino                   1503.709498\n",
       "Gatchina                  1368.438043\n",
       "Vsevolozhsk               1344.285080\n",
       "Vyborg                    1158.657572"
      ]
     },
     "execution_count": 77,
     "metadata": {},
     "output_type": "execute_result"
    }
   ],
   "source": [
    "filt_loc = data.query('locality_name in @ten_localities.index and last_price>244.0')\n",
    "filt_loc = filt_loc.query('last_price<=1.360000e+05++2.177403e+05/2')\n",
    "filt_loc.pivot_table(index='locality_name',values='square_meter_price').sort_values(by='square_meter_price',ascending=False)"
   ]
  },
  {
   "cell_type": "markdown",
   "metadata": {},
   "source": [
    "Apartments in the Saint Petersburg are the most expensive"
   ]
  },
  {
   "cell_type": "markdown",
   "metadata": {},
   "source": [
    "<div class=\"alert alert-success\" role=\"alert\">\n",
    "Correct!\n",
    "\n",
    "</div>"
   ]
  },
  {
   "cell_type": "markdown",
   "metadata": {},
   "source": [
    "###### Closer look at Saint Petesburg"
   ]
  },
  {
   "cell_type": "code",
   "execution_count": 78,
   "metadata": {
    "scrolled": true
   },
   "outputs": [
    {
     "data": {
      "text/html": [
       "<div>\n",
       "<style scoped>\n",
       "    .dataframe tbody tr th:only-of-type {\n",
       "        vertical-align: middle;\n",
       "    }\n",
       "\n",
       "    .dataframe tbody tr th {\n",
       "        vertical-align: top;\n",
       "    }\n",
       "\n",
       "    .dataframe thead th {\n",
       "        text-align: right;\n",
       "    }\n",
       "</style>\n",
       "<table border=\"1\" class=\"dataframe\">\n",
       "  <thead>\n",
       "    <tr style=\"text-align: right;\">\n",
       "      <th></th>\n",
       "      <th>index</th>\n",
       "      <th>date_posted</th>\n",
       "      <th>days_listed</th>\n",
       "      <th>last_price</th>\n",
       "      <th>bedrooms</th>\n",
       "      <th>kitchen_area</th>\n",
       "      <th>living_area</th>\n",
       "      <th>total_area</th>\n",
       "      <th>balconies</th>\n",
       "      <th>ceiling_height</th>\n",
       "      <th>...</th>\n",
       "      <th>park_dist</th>\n",
       "      <th>parks_within_3000</th>\n",
       "      <th>pond_dist</th>\n",
       "      <th>ponds_within_3000</th>\n",
       "      <th>square_meter_price</th>\n",
       "      <th>day_ad_published</th>\n",
       "      <th>month_ad_published</th>\n",
       "      <th>year_ad_published</th>\n",
       "      <th>living_total_ratio</th>\n",
       "      <th>kitchen_total_ratio</th>\n",
       "    </tr>\n",
       "  </thead>\n",
       "  <tbody>\n",
       "    <tr>\n",
       "      <th>15716</th>\n",
       "      <td>23689</td>\n",
       "      <td>2018-02-28</td>\n",
       "      <td>29.0</td>\n",
       "      <td>71000.0</td>\n",
       "      <td>1</td>\n",
       "      <td>9.10</td>\n",
       "      <td>16.300000</td>\n",
       "      <td>35.30</td>\n",
       "      <td>2.0</td>\n",
       "      <td>2.86</td>\n",
       "      <td>...</td>\n",
       "      <td>353.0</td>\n",
       "      <td>1.0</td>\n",
       "      <td>652.0</td>\n",
       "      <td>2.0</td>\n",
       "      <td>2011.331445</td>\n",
       "      <td>2</td>\n",
       "      <td>2</td>\n",
       "      <td>2018</td>\n",
       "      <td>0.461756</td>\n",
       "      <td>0.257790</td>\n",
       "    </tr>\n",
       "    <tr>\n",
       "      <th>15717</th>\n",
       "      <td>23690</td>\n",
       "      <td>2018-07-19</td>\n",
       "      <td>15.0</td>\n",
       "      <td>110000.0</td>\n",
       "      <td>2</td>\n",
       "      <td>6.00</td>\n",
       "      <td>31.000000</td>\n",
       "      <td>52.00</td>\n",
       "      <td>0.0</td>\n",
       "      <td>2.65</td>\n",
       "      <td>...</td>\n",
       "      <td>300.0</td>\n",
       "      <td>1.0</td>\n",
       "      <td>NaN</td>\n",
       "      <td>0.0</td>\n",
       "      <td>2115.384615</td>\n",
       "      <td>3</td>\n",
       "      <td>7</td>\n",
       "      <td>2018</td>\n",
       "      <td>0.596154</td>\n",
       "      <td>0.115385</td>\n",
       "    </tr>\n",
       "    <tr>\n",
       "      <th>15718</th>\n",
       "      <td>23691</td>\n",
       "      <td>2016-10-13</td>\n",
       "      <td>519.0</td>\n",
       "      <td>189400.0</td>\n",
       "      <td>2</td>\n",
       "      <td>10.60</td>\n",
       "      <td>40.300000</td>\n",
       "      <td>72.90</td>\n",
       "      <td>1.0</td>\n",
       "      <td>2.75</td>\n",
       "      <td>...</td>\n",
       "      <td>NaN</td>\n",
       "      <td>0.0</td>\n",
       "      <td>806.0</td>\n",
       "      <td>1.0</td>\n",
       "      <td>2598.079561</td>\n",
       "      <td>3</td>\n",
       "      <td>10</td>\n",
       "      <td>2016</td>\n",
       "      <td>0.552812</td>\n",
       "      <td>0.145405</td>\n",
       "    </tr>\n",
       "    <tr>\n",
       "      <th>15719</th>\n",
       "      <td>23694</td>\n",
       "      <td>2017-03-21</td>\n",
       "      <td>NaN</td>\n",
       "      <td>194000.0</td>\n",
       "      <td>3</td>\n",
       "      <td>13.83</td>\n",
       "      <td>73.300000</td>\n",
       "      <td>133.81</td>\n",
       "      <td>0.0</td>\n",
       "      <td>3.70</td>\n",
       "      <td>...</td>\n",
       "      <td>796.0</td>\n",
       "      <td>1.0</td>\n",
       "      <td>381.0</td>\n",
       "      <td>3.0</td>\n",
       "      <td>1449.816905</td>\n",
       "      <td>1</td>\n",
       "      <td>3</td>\n",
       "      <td>2017</td>\n",
       "      <td>0.547792</td>\n",
       "      <td>0.103356</td>\n",
       "    </tr>\n",
       "    <tr>\n",
       "      <th>15720</th>\n",
       "      <td>23697</td>\n",
       "      <td>2017-03-28</td>\n",
       "      <td>602.0</td>\n",
       "      <td>229500.0</td>\n",
       "      <td>2</td>\n",
       "      <td>23.30</td>\n",
       "      <td>43.583247</td>\n",
       "      <td>76.75</td>\n",
       "      <td>2.0</td>\n",
       "      <td>3.00</td>\n",
       "      <td>...</td>\n",
       "      <td>173.0</td>\n",
       "      <td>2.0</td>\n",
       "      <td>196.0</td>\n",
       "      <td>3.0</td>\n",
       "      <td>2990.228013</td>\n",
       "      <td>1</td>\n",
       "      <td>3</td>\n",
       "      <td>2017</td>\n",
       "      <td>0.567860</td>\n",
       "      <td>0.303583</td>\n",
       "    </tr>\n",
       "  </tbody>\n",
       "</table>\n",
       "<p>5 rows × 29 columns</p>\n",
       "</div>"
      ],
      "text/plain": [
       "       index date_posted  days_listed  last_price  bedrooms  kitchen_area  \\\n",
       "15716  23689  2018-02-28         29.0     71000.0         1          9.10   \n",
       "15717  23690  2018-07-19         15.0    110000.0         2          6.00   \n",
       "15718  23691  2016-10-13        519.0    189400.0         2         10.60   \n",
       "15719  23694  2017-03-21          NaN    194000.0         3         13.83   \n",
       "15720  23697  2017-03-28        602.0    229500.0         2         23.30   \n",
       "\n",
       "       living_area  total_area  balconies  ceiling_height  ...  park_dist  \\\n",
       "15716    16.300000       35.30        2.0            2.86  ...      353.0   \n",
       "15717    31.000000       52.00        0.0            2.65  ...      300.0   \n",
       "15718    40.300000       72.90        1.0            2.75  ...        NaN   \n",
       "15719    73.300000      133.81        0.0            3.70  ...      796.0   \n",
       "15720    43.583247       76.75        2.0            3.00  ...      173.0   \n",
       "\n",
       "      parks_within_3000  pond_dist ponds_within_3000  square_meter_price  \\\n",
       "15716               1.0      652.0               2.0         2011.331445   \n",
       "15717               1.0        NaN               0.0         2115.384615   \n",
       "15718               0.0      806.0               1.0         2598.079561   \n",
       "15719               1.0      381.0               3.0         1449.816905   \n",
       "15720               2.0      196.0               3.0         2990.228013   \n",
       "\n",
       "       day_ad_published month_ad_published  year_ad_published  \\\n",
       "15716                 2                  2               2018   \n",
       "15717                 3                  7               2018   \n",
       "15718                 3                 10               2016   \n",
       "15719                 1                  3               2017   \n",
       "15720                 1                  3               2017   \n",
       "\n",
       "       living_total_ratio  kitchen_total_ratio  \n",
       "15716            0.461756             0.257790  \n",
       "15717            0.596154             0.115385  \n",
       "15718            0.552812             0.145405  \n",
       "15719            0.547792             0.103356  \n",
       "15720            0.567860             0.303583  \n",
       "\n",
       "[5 rows x 29 columns]"
      ]
     },
     "execution_count": 78,
     "metadata": {},
     "output_type": "execute_result"
    }
   ],
   "source": [
    "sp_apartments = pd.DataFrame(data.loc[data['locality_name'] == \"Saint Petersburg\"]).reset_index()\n",
    "sp_apartments.tail()"
   ]
  },
  {
   "cell_type": "code",
   "execution_count": 79,
   "metadata": {},
   "outputs": [],
   "source": [
    "#tranferring meter distances into km distances\n",
    "sp_apartments['center_km'] = sp_apartments['city_center_dist']/1000\n",
    "sp_apartments['center_km'] = sp_apartments['center_km'].astype(int)"
   ]
  },
  {
   "cell_type": "markdown",
   "metadata": {},
   "source": [
    "-- calculate the average price for each kilometer"
   ]
  },
  {
   "cell_type": "code",
   "execution_count": 80,
   "metadata": {},
   "outputs": [],
   "source": [
    "sp_prices = sp_apartments.query(filt_last_price)"
   ]
  },
  {
   "cell_type": "code",
   "execution_count": 81,
   "metadata": {},
   "outputs": [
    {
     "data": {
      "text/html": [
       "<div>\n",
       "<style scoped>\n",
       "    .dataframe tbody tr th:only-of-type {\n",
       "        vertical-align: middle;\n",
       "    }\n",
       "\n",
       "    .dataframe tbody tr th {\n",
       "        vertical-align: top;\n",
       "    }\n",
       "\n",
       "    .dataframe thead th {\n",
       "        text-align: right;\n",
       "    }\n",
       "</style>\n",
       "<table border=\"1\" class=\"dataframe\">\n",
       "  <thead>\n",
       "    <tr style=\"text-align: right;\">\n",
       "      <th></th>\n",
       "      <th>last_price</th>\n",
       "    </tr>\n",
       "    <tr>\n",
       "      <th>center_km</th>\n",
       "      <th></th>\n",
       "    </tr>\n",
       "  </thead>\n",
       "  <tbody>\n",
       "    <tr>\n",
       "      <th>0</th>\n",
       "      <td>170264.000000</td>\n",
       "    </tr>\n",
       "    <tr>\n",
       "      <th>1</th>\n",
       "      <td>167933.698630</td>\n",
       "    </tr>\n",
       "    <tr>\n",
       "      <th>2</th>\n",
       "      <td>154426.841026</td>\n",
       "    </tr>\n",
       "    <tr>\n",
       "      <th>3</th>\n",
       "      <td>151965.746736</td>\n",
       "    </tr>\n",
       "    <tr>\n",
       "      <th>4</th>\n",
       "      <td>157869.326531</td>\n",
       "    </tr>\n",
       "    <tr>\n",
       "      <th>5</th>\n",
       "      <td>149468.011538</td>\n",
       "    </tr>\n",
       "    <tr>\n",
       "      <th>6</th>\n",
       "      <td>138394.507645</td>\n",
       "    </tr>\n",
       "    <tr>\n",
       "      <th>7</th>\n",
       "      <td>135312.287097</td>\n",
       "    </tr>\n",
       "    <tr>\n",
       "      <th>8</th>\n",
       "      <td>128298.593972</td>\n",
       "    </tr>\n",
       "    <tr>\n",
       "      <th>9</th>\n",
       "      <td>107163.126198</td>\n",
       "    </tr>\n",
       "    <tr>\n",
       "      <th>10</th>\n",
       "      <td>107725.171225</td>\n",
       "    </tr>\n",
       "    <tr>\n",
       "      <th>11</th>\n",
       "      <td>106864.980611</td>\n",
       "    </tr>\n",
       "    <tr>\n",
       "      <th>12</th>\n",
       "      <td>108735.144997</td>\n",
       "    </tr>\n",
       "    <tr>\n",
       "      <th>13</th>\n",
       "      <td>111623.881784</td>\n",
       "    </tr>\n",
       "    <tr>\n",
       "      <th>14</th>\n",
       "      <td>106174.889042</td>\n",
       "    </tr>\n",
       "    <tr>\n",
       "      <th>15</th>\n",
       "      <td>103383.838102</td>\n",
       "    </tr>\n",
       "    <tr>\n",
       "      <th>16</th>\n",
       "      <td>101813.819626</td>\n",
       "    </tr>\n",
       "    <tr>\n",
       "      <th>17</th>\n",
       "      <td>93893.342857</td>\n",
       "    </tr>\n",
       "    <tr>\n",
       "      <th>18</th>\n",
       "      <td>95503.185629</td>\n",
       "    </tr>\n",
       "    <tr>\n",
       "      <th>19</th>\n",
       "      <td>91671.111111</td>\n",
       "    </tr>\n",
       "    <tr>\n",
       "      <th>20</th>\n",
       "      <td>127317.309524</td>\n",
       "    </tr>\n",
       "    <tr>\n",
       "      <th>21</th>\n",
       "      <td>101525.772021</td>\n",
       "    </tr>\n",
       "    <tr>\n",
       "      <th>22</th>\n",
       "      <td>101907.355556</td>\n",
       "    </tr>\n",
       "    <tr>\n",
       "      <th>23</th>\n",
       "      <td>82537.333333</td>\n",
       "    </tr>\n",
       "    <tr>\n",
       "      <th>24</th>\n",
       "      <td>77244.681818</td>\n",
       "    </tr>\n",
       "    <tr>\n",
       "      <th>25</th>\n",
       "      <td>80298.226667</td>\n",
       "    </tr>\n",
       "    <tr>\n",
       "      <th>26</th>\n",
       "      <td>71500.000000</td>\n",
       "    </tr>\n",
       "    <tr>\n",
       "      <th>27</th>\n",
       "      <td>45000.000000</td>\n",
       "    </tr>\n",
       "    <tr>\n",
       "      <th>28</th>\n",
       "      <td>98210.000000</td>\n",
       "    </tr>\n",
       "    <tr>\n",
       "      <th>29</th>\n",
       "      <td>76666.666667</td>\n",
       "    </tr>\n",
       "  </tbody>\n",
       "</table>\n",
       "</div>"
      ],
      "text/plain": [
       "              last_price\n",
       "center_km               \n",
       "0          170264.000000\n",
       "1          167933.698630\n",
       "2          154426.841026\n",
       "3          151965.746736\n",
       "4          157869.326531\n",
       "5          149468.011538\n",
       "6          138394.507645\n",
       "7          135312.287097\n",
       "8          128298.593972\n",
       "9          107163.126198\n",
       "10         107725.171225\n",
       "11         106864.980611\n",
       "12         108735.144997\n",
       "13         111623.881784\n",
       "14         106174.889042\n",
       "15         103383.838102\n",
       "16         101813.819626\n",
       "17          93893.342857\n",
       "18          95503.185629\n",
       "19          91671.111111\n",
       "20         127317.309524\n",
       "21         101525.772021\n",
       "22         101907.355556\n",
       "23          82537.333333\n",
       "24          77244.681818\n",
       "25          80298.226667\n",
       "26          71500.000000\n",
       "27          45000.000000\n",
       "28          98210.000000\n",
       "29          76666.666667"
      ]
     },
     "execution_count": 81,
     "metadata": {},
     "output_type": "execute_result"
    }
   ],
   "source": [
    "res = sp_prices.pivot_table(index='center_km', values='last_price')\n",
    "res"
   ]
  },
  {
   "cell_type": "markdown",
   "metadata": {},
   "source": [
    "Let's graphically depict the realtinship between the price the distance from the center in Saint Petersburg"
   ]
  },
  {
   "cell_type": "code",
   "execution_count": 82,
   "metadata": {},
   "outputs": [
    {
     "data": {
      "image/png": "[encoded data removed]",
      "text/plain": [
       "<Figure size 432x288 with 1 Axes>"
      ]
     },
     "metadata": {
      "needs_background": "light"
     },
     "output_type": "display_data"
    }
   ],
   "source": [
    "sp_apartments.plot(x='center_km',y='last_price',kind='scatter')\n",
    "plt.show()"
   ]
  },
  {
   "cell_type": "markdown",
   "metadata": {},
   "source": [
    "We see the price variation changes (and the price decreases) as center_km increases. It seems like the prices out of center are somewhat similar. Let's choose the center_km point where the price change is significant between neigboring center_km. It seems like 8 km is a good choice, but then price varies again after that, and stops after 12 km So let's choose 12km as our center borderline."
   ]
  },
  {
   "cell_type": "code",
   "execution_count": 83,
   "metadata": {},
   "outputs": [],
   "source": [
    "central_apartments = pd.DataFrame(sp_apartments.query('center_km<=12'))"
   ]
  },
  {
   "cell_type": "code",
   "execution_count": 84,
   "metadata": {},
   "outputs": [],
   "source": [
    "#analyzing correlations between parameters\n",
    "param = [\n",
    "    'last_price',\n",
    "    'center_km',\n",
    "    'total_area',\n",
    "    'bedrooms',\n",
    "    'ceiling_height',\n",
    "    'day_ad_published',\n",
    "    'month_ad_published',\n",
    "    'year_ad_published'\n",
    "]\n",
    "sp_filt_data = central_apartments.query(filt_last_price and filt_total_area and filt_days and filt_bedrooms) "
   ]
  },
  {
   "cell_type": "code",
   "execution_count": 85,
   "metadata": {},
   "outputs": [
    {
     "data": {
      "text/html": [
       "<div>\n",
       "<style scoped>\n",
       "    .dataframe tbody tr th:only-of-type {\n",
       "        vertical-align: middle;\n",
       "    }\n",
       "\n",
       "    .dataframe tbody tr th {\n",
       "        vertical-align: top;\n",
       "    }\n",
       "\n",
       "    .dataframe thead th {\n",
       "        text-align: right;\n",
       "    }\n",
       "</style>\n",
       "<table border=\"1\" class=\"dataframe\">\n",
       "  <thead>\n",
       "    <tr style=\"text-align: right;\">\n",
       "      <th></th>\n",
       "      <th>last_price</th>\n",
       "      <th>center_km</th>\n",
       "      <th>total_area</th>\n",
       "      <th>bedrooms</th>\n",
       "      <th>ceiling_height</th>\n",
       "      <th>day_ad_published</th>\n",
       "      <th>month_ad_published</th>\n",
       "      <th>year_ad_published</th>\n",
       "    </tr>\n",
       "  </thead>\n",
       "  <tbody>\n",
       "    <tr>\n",
       "      <th>last_price</th>\n",
       "      <td>1.000000</td>\n",
       "      <td>-0.274765</td>\n",
       "      <td>0.689948</td>\n",
       "      <td>0.376972</td>\n",
       "      <td>0.065890</td>\n",
       "      <td>0.011341</td>\n",
       "      <td>-0.010158</td>\n",
       "      <td>-0.066726</td>\n",
       "    </tr>\n",
       "    <tr>\n",
       "      <th>center_km</th>\n",
       "      <td>-0.274765</td>\n",
       "      <td>1.000000</td>\n",
       "      <td>-0.380183</td>\n",
       "      <td>-0.331022</td>\n",
       "      <td>-0.108869</td>\n",
       "      <td>0.019311</td>\n",
       "      <td>-0.000409</td>\n",
       "      <td>0.106412</td>\n",
       "    </tr>\n",
       "    <tr>\n",
       "      <th>total_area</th>\n",
       "      <td>0.689948</td>\n",
       "      <td>-0.380183</td>\n",
       "      <td>1.000000</td>\n",
       "      <td>0.745421</td>\n",
       "      <td>0.075854</td>\n",
       "      <td>-0.000270</td>\n",
       "      <td>0.002588</td>\n",
       "      <td>-0.119460</td>\n",
       "    </tr>\n",
       "    <tr>\n",
       "      <th>bedrooms</th>\n",
       "      <td>0.376972</td>\n",
       "      <td>-0.331022</td>\n",
       "      <td>0.745421</td>\n",
       "      <td>1.000000</td>\n",
       "      <td>0.048323</td>\n",
       "      <td>-0.015167</td>\n",
       "      <td>0.006310</td>\n",
       "      <td>-0.084621</td>\n",
       "    </tr>\n",
       "    <tr>\n",
       "      <th>ceiling_height</th>\n",
       "      <td>0.065890</td>\n",
       "      <td>-0.108869</td>\n",
       "      <td>0.075854</td>\n",
       "      <td>0.048323</td>\n",
       "      <td>1.000000</td>\n",
       "      <td>-0.020066</td>\n",
       "      <td>-0.003690</td>\n",
       "      <td>0.002537</td>\n",
       "    </tr>\n",
       "    <tr>\n",
       "      <th>day_ad_published</th>\n",
       "      <td>0.011341</td>\n",
       "      <td>0.019311</td>\n",
       "      <td>-0.000270</td>\n",
       "      <td>-0.015167</td>\n",
       "      <td>-0.020066</td>\n",
       "      <td>1.000000</td>\n",
       "      <td>0.001384</td>\n",
       "      <td>0.006703</td>\n",
       "    </tr>\n",
       "    <tr>\n",
       "      <th>month_ad_published</th>\n",
       "      <td>-0.010158</td>\n",
       "      <td>-0.000409</td>\n",
       "      <td>0.002588</td>\n",
       "      <td>0.006310</td>\n",
       "      <td>-0.003690</td>\n",
       "      <td>0.001384</td>\n",
       "      <td>1.000000</td>\n",
       "      <td>-0.280058</td>\n",
       "    </tr>\n",
       "    <tr>\n",
       "      <th>year_ad_published</th>\n",
       "      <td>-0.066726</td>\n",
       "      <td>0.106412</td>\n",
       "      <td>-0.119460</td>\n",
       "      <td>-0.084621</td>\n",
       "      <td>0.002537</td>\n",
       "      <td>0.006703</td>\n",
       "      <td>-0.280058</td>\n",
       "      <td>1.000000</td>\n",
       "    </tr>\n",
       "  </tbody>\n",
       "</table>\n",
       "</div>"
      ],
      "text/plain": [
       "                    last_price  center_km  total_area  bedrooms  \\\n",
       "last_price            1.000000  -0.274765    0.689948  0.376972   \n",
       "center_km            -0.274765   1.000000   -0.380183 -0.331022   \n",
       "total_area            0.689948  -0.380183    1.000000  0.745421   \n",
       "bedrooms              0.376972  -0.331022    0.745421  1.000000   \n",
       "ceiling_height        0.065890  -0.108869    0.075854  0.048323   \n",
       "day_ad_published      0.011341   0.019311   -0.000270 -0.015167   \n",
       "month_ad_published   -0.010158  -0.000409    0.002588  0.006310   \n",
       "year_ad_published    -0.066726   0.106412   -0.119460 -0.084621   \n",
       "\n",
       "                    ceiling_height  day_ad_published  month_ad_published  \\\n",
       "last_price                0.065890          0.011341           -0.010158   \n",
       "center_km                -0.108869          0.019311           -0.000409   \n",
       "total_area                0.075854         -0.000270            0.002588   \n",
       "bedrooms                  0.048323         -0.015167            0.006310   \n",
       "ceiling_height            1.000000         -0.020066           -0.003690   \n",
       "day_ad_published         -0.020066          1.000000            0.001384   \n",
       "month_ad_published       -0.003690          0.001384            1.000000   \n",
       "year_ad_published         0.002537          0.006703           -0.280058   \n",
       "\n",
       "                    year_ad_published  \n",
       "last_price                  -0.066726  \n",
       "center_km                    0.106412  \n",
       "total_area                  -0.119460  \n",
       "bedrooms                    -0.084621  \n",
       "ceiling_height               0.002537  \n",
       "day_ad_published             0.006703  \n",
       "month_ad_published          -0.280058  \n",
       "year_ad_published            1.000000  "
      ]
     },
     "execution_count": 85,
     "metadata": {},
     "output_type": "execute_result"
    }
   ],
   "source": [
    "sp_filt_data[param].corr()"
   ]
  },
  {
   "cell_type": "markdown",
   "metadata": {},
   "source": [
    "### Step 5. Overall conclusion"
   ]
  },
  {
   "cell_type": "markdown",
   "metadata": {},
   "source": [
    "In Step 1: I looked at the provided dataset, to get a perception of what should be done. The dataset had a lot of missing variables, almost no dupllicates and some mismatched data types which we had to change.\n",
    "\n",
    "In Step 2: We took a preliminary step towards solving those problems. First, we needed to fill mising values in the 'living_area' column. There is a possibility that the median value of the column might be bigger than the actual living and even total area, so we needed to explore the column in depth. We know that there are two types of apartments, namely open plan apartments and studio apartments, so we needed to check are the variables in these two kind of apartments are more prone to being missing in our dataset. If that was the case, then we'd had to investigate and fill in the missing variables in only one type of the apartment. However, after checking and graphing the distribution we see that the percentage of the missing values is roughly the same in both types. There are two strategies we could use to fill in the missing values: 1) use an average ratio of total_area to living_area; 2) group apartments by the number of bedrooms and take the average in each separate group. After doing that, we mostly used median and transformed datatypes.  Also, to fill in the airport_dist and city_center_dist, we sliced the dataset by localities and used individual medians to fill in the missing values in each locality. \n",
    "\n",
    "In Steps 3 & 4: We calculated the ratios and plotted graphs to identify the patterns. To make things clearer we got rid of the outliers (using boxplots, although we could use the log scale), re-draw the graphs and drew our conclusions. We also saw that the apartment is Saint Peterburg are the most expensive, so we analyzed them separately. Our conclusions for Saint Petersburg and in general were very similar. Namely we saw that:  \n",
    "\n",
    "- Apartments in Saint Petersburg are more expensive\n",
    "- The closer the apartment to the center the more expensive it is\n",
    "- Factors such as ceiling_height, total_area, and number of bedrooms considerably affect the prices ( the correlation is positive, so as our factors increase the price increases as well)\n",
    "- First floor apartments are generally cheaper than others, and people mostly want apartments between the first and the last floor. "
   ]
  },
  {
   "cell_type": "markdown",
   "metadata": {},
   "source": [
    "\n",
    "<div class=\"alert alert-success\" role=\"alert\">\n",
    "All in all, I was very impressed by how thoroughly and diligently you did all of the steps, and by your critical thinking approach. I think this project has an incredible potential and after you fix those few notes that I left I will gladly consider it accepted. Good luck!\n",
    "</div>\n",
    "\n",
    "<div class=\"alert alert-info\" role=\"alert\">\n",
    "    I tried providing more info, and hope that's what you meant:) Thanks a lot for the detailed feedback, and my huge gratitude for the fast checking! I am behind the deadline and have to complete 2 more projects this week, so your timing really helps me. I don't want to get dropped out, so I'll try to do them soon. Once again, thank you)\n",
    "</div>\n",
    "\n",
    "<div class=\"alert alert-success\" role=\"alert\">\n",
    "You did a fantastic job with second iteration, I liked every comment! And your conclusions were really solid this time. I left a couple of \"yellow\" notes, which are more like general advices. You can return to them whenever you want ;)\n",
    "    \n",
    "But yeah, as much as it was a pleasure reviewing your work, I think you're ready now =) So, I'm accepting your project and wish you best of luck in your future studies!\n",
    "    \n",
    "Cheers!\n",
    "</div>"
   ]
  },
  {
   "cell_type": "markdown",
   "metadata": {},
   "source": [
    "### Project completion checklist\n",
    "\n",
    "Mark the completed tasks with 'x'. Then press Shift+Enter."
   ]
  },
  {
   "cell_type": "markdown",
   "metadata": {},
   "source": [
    "- [x]  file opened\n",
    "- [x]  files explored (first rows printed, info() method)\n",
    "- [x]  missing values determined\n",
    "- [x]  missing values filled in\n",
    "- [x]  clarification of the discovered missing values provided\n",
    "- [x]  data types converted\n",
    "- [x]  explanation of which columns had the data types changed and why\n",
    "- [x]  calculated and added to the table: the price per square meter\n",
    "- [x]  calculated and added to the table: the day of the week, month, and year that the ad was published\n",
    "- [x]  calculated and added to the table: which floor the apartment is on (first, last, or other)\n",
    "- [x]  calculated and added to the table: the ratio between the living space and the total area, as well as between the kitchen space and the total area\n",
    "- [x]  the following parameters investigated: square area, price, number of rooms, and ceiling height\n",
    "- [x]  histograms for each parameter created\n",
    "- [x]  task completed: \"Examine the time it's taken to sell the apartment and create a histogram. Calculate the mean and median and explain the average time it usually takes to complete a sale. When can a sale be considered extra quick or taken an extra slow?\"\n",
    "- [x]  task completed: \"Remove rare and outlying values and describe the specific details you've discovered.\"\n",
    "- [x]  task completed: \"Which factors have had the biggest influence on an apartment’s value? Examine whether the value depends on price per meter, number of rooms, floor (top or bottom), or the proximity to the downtown area. Also study the correlation to the ad posting date: day of the week, month, and year. \"Select the 10 places with the largest number of ads and then calculate the average price per square meter in these localities. Select the locations with the highest and lowest housing prices. You can find this data by name in the ’*locality_name’* column. \"\n",
    "- [x]  task completed: \"Thoroughly look at apartment offers: each apartment has information about the distance to the downtown area. Select apartments in Saint Petersburg (*‘locality_name’*). Your task is to pinpoint which area is considered to be downtown. Create a column with the distance to the downtown area in km and round to the nearest whole number. Next, calculate the average price for each kilometer. Build a graph to display how prices are affected by the distance to the downtown area. Define the turning point where the graph significantly changes. This will indicate downtown. \"\n",
    "- [x]  task completed: \"Select a segment of apartments in the downtown. Analyze this area and examine the following parameters: square area, price, number of rooms, ceiling height. Also identify the factors that affect an apartment’s price (number of rooms, floor, distance to the downtown area, and ad publication date). Draw your conclusions. Are they different from the overall conclusions about the entire city?\"\n",
    "- [x]  each stage has a conclusion\n",
    "- [x]  overall conclusion drawn"
   ]
  },
  {
   "cell_type": "code",
   "execution_count": null,
   "metadata": {},
   "outputs": [],
   "source": []
  }
 ],
 "metadata": {
  "kernelspec": {
   "display_name": "Python 3",
   "language": "python",
   "name": "python3"
  },
  "language_info": {
   "codemirror_mode": {
    "name": "ipython",
    "version": 3
   },
   "file_extension": ".py",
   "mimetype": "text/x-python",
   "name": "python",
   "nbconvert_exporter": "python",
   "pygments_lexer": "ipython3",
   "version": "3.7.6"
  }
 },
 "nbformat": 4,
 "nbformat_minor": 2
}
